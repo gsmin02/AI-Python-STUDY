{
 "cells": [
  {
   "cell_type": "markdown",
   "id": "a40175b8",
   "metadata": {},
   "source": [
    "## 4장 - 선형대수\n",
    "\n",
    "#### 선형대수는 다차원 구조를 가진 수치의 나열을 다루는 수학의 분야 중 한 가지입니다. 그러한 다차원 구조에는 스칼라, 벡터, 텐서라 부르는 것이 있습니다. 인공지능에서는 매우 많은 수치를 다워야 하는데 선형대수를 이용하면 많은 수치에 대한 처리를 간결한 수식으로 기술할 수 있습니다. 그리고 그 수식은 NumPy로 간단하게 코드로 나타낼 수 있습니다."
   ]
  },
  {
   "cell_type": "markdown",
   "id": "ff5dcd5a",
   "metadata": {},
   "source": [
    "### 스칼라\n",
    "\n",
    "스칼라(scalar)는 1, 5, 1.2, -7 등의 보통의 수치를 말합니다. 이 책에서는 수식에서의 알파벳, 또는 그리스 문자의 소문자는 스칼라를 나타내는 것으로 합니다.\n",
    "\n",
    "- 스칼라의 표시 예 : a, p, $\\alpha$, $\\gamma$"
   ]
  },
  {
   "cell_type": "markdown",
   "id": "56f55a3d",
   "metadata": {},
   "source": [
    "### 벡터\n",
    "\n",
    "벡터는 스칼라를 직선 상에 나열한 것입니다. 이 책의 수식에서는 알파벳의 소문자에 화살표를 올린 것으로 벡터를 나타냅니다.  \n",
    "\n",
    "벡터에는 위의 $\\vec{a}, \\vec{p}$와 같이 세로로 수치를 나열하는 세로 벡터와 $\\vec{b}, \\vec{q}$처럼 가로로 수치를 나열하는 가로 벡터가 있습니다. 이 책에서는 앞으로 가로 벡터를 주로 사용하므로 단지 벡터라고 기술할 때는 가로 벡터를 나타내는 것으로 합니다. 또한, $\\vec{p}, \\vec{q}$로 볼 수 있듯 벡터의 요소를 변후로 나타낼 때의 첨자 수는 1개입니다."
   ]
  },
  {
   "cell_type": "markdown",
   "id": "041e61bd",
   "metadata": {},
   "source": [
    "### 벡터의 구현\n",
    "\n",
    "벡터는 NumPy의 1차원 배열을 이용해서 나타낼 수 있습니다."
   ]
  },
  {
   "cell_type": "code",
   "execution_count": 1,
   "id": "c2a38032",
   "metadata": {},
   "outputs": [
    {
     "name": "stdout",
     "output_type": "stream",
     "text": [
      "[1 2 3]\n",
      "[-2.4   0.25 -1.3   1.8   0.61]\n"
     ]
    }
   ],
   "source": [
    "#리스트4.2\n",
    "import numpy as np\n",
    "\n",
    "a = np.array([1, 2, 3]) # 1차원 배열로 벡터를 나타낸다\n",
    "print(a)\n",
    "\n",
    "b = np.array([-2.4, 0.25, -1.3, 1.8, 0.61])\n",
    "print(b)"
   ]
  },
  {
   "cell_type": "markdown",
   "id": "bf6bd3dd",
   "metadata": {},
   "source": [
    "수치가 직선 상에 나열되어 있는 걸 확인할 수 있습니다."
   ]
  },
  {
   "cell_type": "markdown",
   "id": "112c675b",
   "metadata": {},
   "source": [
    "### 행렬\n",
    "\n",
    "헹렬은 스칼라를 격자 형태로 나열한 것으로 예를 들어 다음과 같이 표기합니다.\n",
    "\n",
    "$$0.12\\ \\ -0.34\\ \\ 1.3\\ \\ 0.81$$\n",
    "$$-1.4\\ \\ 0.25\\ \\ 0.69\\ \\ -0.41$$\n",
    "$$0.25\\ \\ -1.5\\ \\ -0.15\\ \\ 1.1$$\n",
    "\n",
    "행렬에서 수평 방향의 스칼라의 나열을 **행**, 수직 방향의 스칼라의 나열을 **열**이라고 합니다.  \n",
    "\n",
    "행은 위에서부터 첫 번째, 두 번째, 세 번째, ...로 셉니다. 열은 왼쪽부터 첫 번째 열, 두 번째 열, 세 번째 열, ...로 셉니다. 또한, 행이 $m$개, 열이 $n$개 나열하는 행렬을 $m × n$ 행렬로 표현합니다."
   ]
  },
  {
   "cell_type": "markdown",
   "id": "6af9c057",
   "metadata": {},
   "source": [
    "### 행렬의 구현\n",
    "\n",
    "NumPy의 2차원 배열을 이용해서 행렬을 표현할 수 있습니다."
   ]
  },
  {
   "cell_type": "code",
   "execution_count": 2,
   "id": "f9685833",
   "metadata": {},
   "outputs": [
    {
     "name": "stdout",
     "output_type": "stream",
     "text": [
      "[[1 2 3]\n",
      " [4 5 6]]\n",
      "[[ 0.21  0.14]\n",
      " [-1.3   0.81]\n",
      " [ 0.12 -2.1 ]]\n"
     ]
    }
   ],
   "source": [
    "#리스트4.3\n",
    "import numpy as np\n",
    "\n",
    "a = np.array([[1, 2, 3],\n",
    "             [4, 5, 6]]) # 2x3의 행렬\n",
    "print(a)\n",
    "\n",
    "b = np.array([[0.21, 0.14],\n",
    "             [-1.3, 0.81],\n",
    "             [0.12, -2.1]]) # 3x2의 행렬\n",
    "print(b)"
   ]
  },
  {
   "cell_type": "markdown",
   "id": "0e069838",
   "metadata": {},
   "source": [
    "수치가 격자 형태로 나열된 걸 확인할 수 있습니다."
   ]
  },
  {
   "cell_type": "markdown",
   "id": "78b9f85b",
   "metadata": {},
   "source": [
    "### 텐서\n",
    "\n",
    "텐서는 스칼라를 여러 개의 차원으로 나열한 것으로 스칼라, 벡터, 행렬을 포함합니다.  \n",
    "각 요소에 붙은 첨자의 수를 그 텐서의 차원수라고 말합니다 스칼라에는 첨자가 없으므로 0차원 텐서, 벡터는 참가자 첨자가 1개이므로 1차원 텐서, 행렬은 첨자가 2개이므로 2차원 텐서입니다. 더욱 고차원인 것은 3차원 텐서, 4차원 텐서...가 됩니다."
   ]
  },
  {
   "cell_type": "markdown",
   "id": "91761d49",
   "metadata": {},
   "source": [
    "### 텐서의 구현\n",
    "\n",
    "NumPy의 다차원 배열을 이용하면 3차원 텐서를 구현할 수 있습니다."
   ]
  },
  {
   "cell_type": "code",
   "execution_count": 3,
   "id": "acce004a",
   "metadata": {},
   "outputs": [
    {
     "name": "stdout",
     "output_type": "stream",
     "text": [
      "[[[0 1 2 3]\n",
      "  [2 3 4 5]\n",
      "  [4 5 6 7]]\n",
      "\n",
      " [[1 2 3 4]\n",
      "  [3 4 5 6]\n",
      "  [5 6 7 8]]]\n"
     ]
    }
   ],
   "source": [
    "#리스트4.4\n",
    "import numpy as np\n",
    "\n",
    "a = np.array([[[0, 1, 2, 3],\n",
    "              [2, 3, 4, 5],\n",
    "              [4, 5, 6, 7]],\n",
    "              [[1, 2, 3, 4],\n",
    "               [3, 4, 5, 6],\n",
    "               [5, 6, 7, 8]]]) # (2, 3, 4)의 3차원 텐서\n",
    "print(a)"
   ]
  },
  {
   "cell_type": "markdown",
   "id": "2b49d09e",
   "metadata": {},
   "source": [
    "행렬이 2개 나열되어 있는 것을 확인할 수 있습니다. 코드에서 a는 3차원 텐서입니다. NumPy의 다차원 배열에 의해 더욱 층수가 많은 텐서를 표현할 수도 있습니다."
   ]
  },
  {
   "cell_type": "markdown",
   "id": "4202af42",
   "metadata": {},
   "source": [
    "### 내적\n",
    "\n",
    "내적은 벡터끼리의 곱의 한 종류인데 각 요소끼리 곱한 값을 총합해서 정의합니다.\n",
    "\n",
    "$$\\vec{a} = (a_1, a_2,ㆍㆍㆍ, a_n)$$\n",
    "$$\\vec{b} = (b_1, b_2,ㆍㆍㆍ, b_n)$$\n",
    "\n",
    "위와 같을 때, $\\vec{a}$와 $\\vec{b}$의 내적이 $\\vec{a}$ㆍ$\\vec{b}$로 표시되게 하면 다음과 같습니다.\n",
    "\n",
    "$$\\vec{a}ㆍ\\vec{b} = (a_1, a_2,ㆍㆍㆍ, a_n)ㆍ(b_1, b_2,ㆍㆍㆍ, b_n)$$\n",
    "$$= (a_1b_1 ＋ a_2b_2 ＋ㆍㆍㆍ＋ a_nb_n)$$\n",
    "$$= \\sum_{k=1}^n a_kb_k$$\n",
    "\n",
    "내적을 구할 때는 두 개의 벡터의 요소 수가 같아야 합니다. 내적은 삼각함수를 사용해 구하는 방법이 있는데 이것에 대해서는 이후에 설명합니다."
   ]
  },
  {
   "cell_type": "markdown",
   "id": "ccc4e7a0",
   "metadata": {},
   "source": [
    "내적은 NumPy의 **dot()** 함수로 간단하게 구현할 수 있습니다. 또한, **sum()** 함수를 사용해서 각 요소의 곱의 총합으로도 구할 수 있습니다."
   ]
  },
  {
   "cell_type": "code",
   "execution_count": 1,
   "id": "b8d516b8",
   "metadata": {},
   "outputs": [
    {
     "name": "stdout",
     "output_type": "stream",
     "text": [
      "--- dot() 함수 ---\n",
      "10\n",
      "--- 곱의 총합 ---\n",
      "10\n"
     ]
    }
   ],
   "source": [
    "#리스트4.6\n",
    "import numpy as np\n",
    "\n",
    "a = np.array([1, 2, 3])\n",
    "b = np.array([3, 2, 1])\n",
    "\n",
    "print(\"--- dot() 함수 ---\")\n",
    "print(np.dot(a, b)) # dot() 함수에 의한 내적\n",
    "print(\"--- 곱의 총합 ---\")\n",
    "print(np.sum(a * b)) # 곱의 총합에 의한 내적"
   ]
  },
  {
   "cell_type": "markdown",
   "id": "4354a2ca",
   "metadata": {},
   "source": [
    "**dot()** 함수, 곱의 총합 모두 같은 결과가 나왔습니다. 내적은 예를 들어 두 개 벡터의 상관관계를 구할 때 등에 사용합니다. 상관관계에 대해서는 이후에서 설명합니다."
   ]
  },
  {
   "cell_type": "markdown",
   "id": "edf7ea14",
   "metadata": {},
   "source": [
    "### 놈(norm)\n",
    "\n",
    "놈은 벡터의 크기를 나타내는 양입니다. 인공지능에서 자주 쓰이는 놈으로는 $L^2$ 놈과 $L^1$ 놈이 있습니다."
   ]
  },
  {
   "cell_type": "markdown",
   "id": "5a1d51ad",
   "metadata": {},
   "source": [
    "### $L^2$ 놈\n",
    "\n",
    "$L^2$ 놈은 다음과 같이 ||$\\vec{x}$||$_2$로 나타냅니다. 벡터의 각 요소를 제곱하여 제곱근을 구해 계산합니다.\n",
    "\n",
    "$$||\\vec{x}||_2 = \\sqrt{x^2_1 ＋ x^2_2 ＋ㆍㆍㆍ＋ x^2_n}$$\n",
    "$$= \\sqrt{\\sum^n_{k=1}x^2_k}$$"
   ]
  },
  {
   "cell_type": "markdown",
   "id": "ad25ea1f",
   "metadata": {},
   "source": [
    "### $L^1$ 놈\n",
    "\n",
    "$L^1$ 놈은 다음과 같이 ||$\\vec{x}_1$||로 나타냅니다. 벡터의 각 요소의 절댓값을 더해서 계산합니다.\n",
    "\n",
    "$$||\\vec{x}_1 = |x_1|＋|x_2|＋ㆍㆍㆍ＋|x_n|$$\n",
    "$$= (\\sum^n_{k=1}x^p_k)^\\frac{1}{p}$$"
   ]
  },
  {
   "cell_type": "markdown",
   "id": "b6fa572d",
   "metadata": {},
   "source": [
    "놈에는 몇 가지 표시법이 있는데 인공지능에서는 이것들을 필요에 따라 구분해서 하용합니다."
   ]
  },
  {
   "cell_type": "code",
   "execution_count": 5,
   "id": "887d3347",
   "metadata": {},
   "outputs": [
    {
     "name": "stdout",
     "output_type": "stream",
     "text": [
      "놈은 NumPy()의 linalg.norm() 함수를 이용해서 구할 수 있습니다.\n",
      "--- L2놈 ---\n",
      "2.0\n",
      "--- L1놈 ---\n",
      "4.0\n"
     ]
    }
   ],
   "source": [
    "#리스트4.7\n",
    "import numpy as np\n",
    "\n",
    "print(\"놈은 NumPy()의 linalg.norm() 함수를 이용해서 구할 수 있습니다.\")\n",
    "\n",
    "a = np.array([1, 1, -1, -1])\n",
    "\n",
    "print(\"--- L2놈 ---\")\n",
    "print(np.linalg.norm(a)) # L2놈(디폴트)\n",
    "print(\"--- L1놈 ---\")\n",
    "print(np.linalg.norm(a, 1)) # L1놈"
   ]
  },
  {
   "cell_type": "code",
   "execution_count": 6,
   "id": "caa113ea",
   "metadata": {},
   "outputs": [
    {
     "name": "stdout",
     "output_type": "stream",
     "text": [
      "행렬곱을 전체 행과 열의 조합으로 계산하는 건 힘들지만 NumPy의 dot() 함수를 이용하면 간단하게 행렬곱을 계산할 수 있습니다.\n",
      "[[ 6  3]\n",
      " [12  6]]\n"
     ]
    }
   ],
   "source": [
    "#리스트4.10\n",
    "import numpy as np\n",
    "\n",
    "print(\"행렬곱을 전체 행과 열의 조합으로 계산하는 건 힘들지만 NumPy의 dot() 함수를 이용하면 간단하게 행렬곱을 계산할 수 있습니다.\")\n",
    "\n",
    "a = np.array([[0, 1, 2],\n",
    "             [1, 2, 3]])\n",
    "\n",
    "b = np.array([[2, 1],\n",
    "             [2, 1],\n",
    "             [2, 1]])\n",
    "\n",
    "print(np.dot(a, b))"
   ]
  },
  {
   "cell_type": "code",
   "execution_count": 7,
   "id": "f07e7bb1",
   "metadata": {},
   "outputs": [
    {
     "name": "stdout",
     "output_type": "stream",
     "text": [
      "요소별 곱은 NumPy를 이용해서 구현할 수 있습니다. 요소별 연산에는 스칼라 곱의 연산자와 같은 *를 사용합니다.\n",
      "[[ 0  1  4]\n",
      " [ 6  0  5]\n",
      " [ 6 14  0]]\n"
     ]
    }
   ],
   "source": [
    "#리스트4.11\n",
    "import numpy as np\n",
    "\n",
    "print(\"요소별 곱은 NumPy를 이용해서 구현할 수 있습니다. 요소별 연산에는 스칼라 곱의 연산자와 같은 *를 사용합니다.\")\n",
    "\n",
    "a = np.array([[0, 1, 2],\n",
    "             [3, 4, 5],\n",
    "             [6, 7, 8]])\n",
    "\n",
    "b = np.array([[0, 1, 2],\n",
    "             [2, 0, 1],\n",
    "             [1, 2, 0]])\n",
    "\n",
    "print(a*b)"
   ]
  },
  {
   "cell_type": "code",
   "execution_count": 8,
   "id": "aebb4d97",
   "metadata": {},
   "outputs": [
    {
     "name": "stdout",
     "output_type": "stream",
     "text": [
      "NumPy에서는 행렬을 나타내는 배열명의 뒤에 .T를 붙이면 전치가 됩니다.\n",
      "[[1 4]\n",
      " [2 5]\n",
      " [3 6]]\n"
     ]
    }
   ],
   "source": [
    "#라스트4.14\n",
    "import numpy as np\n",
    "\n",
    "print(\"NumPy에서는 행렬을 나타내는 배열명의 뒤에 .T를 붙이면 전치가 됩니다.\")\n",
    "\n",
    "a = np.array([[1, 2, 3],\n",
    "             [4, 5, 6]]) # 행렬\n",
    "\n",
    "print(a.T) # 전치"
   ]
  },
  {
   "cell_type": "code",
   "execution_count": 1,
   "id": "5c4756fa",
   "metadata": {},
   "outputs": [
    {
     "name": "stdout",
     "output_type": "stream",
     "text": [
      "[[ 5  8]\n",
      " [ 8 14]]\n"
     ]
    }
   ],
   "source": [
    "#리스트4.15\n",
    "import numpy as np\n",
    "\n",
    "a = np.array([[0, 1, 2],\n",
    "             [1, 2, 3]]) # 2x3의 행렬\n",
    "b = np.array([[0, 1, 2],\n",
    "             [1, 2, 3]]) # 2x3의 행렬, 이대로는 행렬곱을 할 수 없다.\n",
    "\n",
    "# print(np.dot(a, b)) # 전치하지 않고 행렬곱을 취하면 에러\n",
    "print(np.dot(a, b.T)) # 전치에 의해 행렬곱이 가능해짐"
   ]
  },
  {
   "cell_type": "code",
   "execution_count": 2,
   "id": "2ab0778c",
   "metadata": {},
   "outputs": [
    {
     "name": "stdout",
     "output_type": "stream",
     "text": [
      "NumPy에서는 eye() 함수로 단위행렬을 작성할 수 있습니다. eye() 함수에 전달하는 인수는 단위행렬의 크기를 나타냅니다.\n",
      "[[1. 0.]\n",
      " [0. 1.]]\n",
      "\n",
      "[[1. 0. 0.]\n",
      " [0. 1. 0.]\n",
      " [0. 0. 1.]]\n",
      "\n",
      "[[1. 0. 0. 0.]\n",
      " [0. 1. 0. 0.]\n",
      " [0. 0. 1. 0.]\n",
      " [0. 0. 0. 1.]]\n"
     ]
    }
   ],
   "source": [
    "#리스트4.18\n",
    "import numpy as np\n",
    "\n",
    "print(\"NumPy에서는 eye() 함수로 단위행렬을 작성할 수 있습니다. eye() 함수에 전달하는 인수는 단위행렬의 크기를 나타냅니다.\")\n",
    "\n",
    "print(np.eye(2)) # 2x2의 단위 행렬\n",
    "print()\n",
    "print(np.eye(3)) # 3x3의 단위 행렬\n",
    "print()\n",
    "print(np.eye(4)) # 4x4의 단위 행렬"
   ]
  },
  {
   "cell_type": "code",
   "execution_count": 3,
   "id": "532aa787",
   "metadata": {},
   "outputs": [
    {
     "name": "stdout",
     "output_type": "stream",
     "text": [
      "행렬에 따라서는 역행렬이 존재하지 않을 수 있습니다. 역행렬이 존재할지 여부는 행렬식에 의해 판정할 수 있습니다. NumPy의 linalg.det() 함수에 의해 행렬식을 구할 수 있습니다.\n",
      "-2.0000000000000004\n",
      "0.0\n"
     ]
    }
   ],
   "source": [
    "#리스트4.19\n",
    "import numpy as np\n",
    "\n",
    "print(\"행렬에 따라서는 역행렬이 존재하지 않을 수 있습니다. 역행렬이 존재할지 여부는 행렬식에 의해 판정할 수 있습니다. NumPy의 linalg.det() 함수에 의해 행렬식을 구할 수 있습니다.\")\n",
    "\n",
    "a = np.array([[1, 2],\n",
    "             [3, 4]])\n",
    "print(np.linalg.det(a)) # 행렬식이 0이 되지 않는 경우\n",
    "\n",
    "b = np.array([[1, 2],\n",
    "             [0, 0]])\n",
    "print(np.linalg.det(b)) # 행렬식이 0이 되는 경우"
   ]
  },
  {
   "cell_type": "code",
   "execution_count": 7,
   "id": "8caf18cb",
   "metadata": {},
   "outputs": [
    {
     "name": "stdout",
     "output_type": "stream",
     "text": [
      "역행렬이 존재하는 경우, NumPy의 linalg.inv() 함수로 역행렬을 구할 수 있습니다.\n",
      "역행렬은 인공지능에서 변수끼리 상관관계를 알아보는 회귀 분석에 사용됩니다.\n",
      "[[-2.   1. ]\n",
      " [ 1.5 -0.5]]\n"
     ]
    }
   ],
   "source": [
    "#리스트4.20\n",
    "import numpy as np\n",
    "\n",
    "print(\"역행렬이 존재하는 경우, NumPy의 linalg.inv() 함수로 역행렬을 구할 수 있습니다.\")\n",
    "print(\"역행렬은 인공지능에서 변수끼리 상관관계를 알아보는 회귀 분석에 사용됩니다.\")\n",
    "\n",
    "a = np.array([[1, 2],\n",
    "             [3, 4]])\n",
    "print(np.linalg.inv(a)) # 역행렬\n",
    "\n",
    "b = np.array([[1, 2],\n",
    "             [0, 0]])\n",
    "# print(np.linalg.inv(b)) # 역행렬이 존재하지 않으므로 에러가 난다"
   ]
  }
 ],
 "metadata": {
  "kernelspec": {
   "display_name": "Python 3 (ipykernel)",
   "language": "python",
   "name": "python3"
  },
  "language_info": {
   "codemirror_mode": {
    "name": "ipython",
    "version": 3
   },
   "file_extension": ".py",
   "mimetype": "text/x-python",
   "name": "python",
   "nbconvert_exporter": "python",
   "pygments_lexer": "ipython3",
   "version": "3.9.13"
  }
 },
 "nbformat": 4,
 "nbformat_minor": 5
}
