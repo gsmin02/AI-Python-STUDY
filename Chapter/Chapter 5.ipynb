{
 "cells": [
  {
   "cell_type": "markdown",
   "id": "88217b8f",
   "metadata": {},
   "source": [
    "# 5장 - 미분\n",
    "\n",
    "이 장에서는 상미분 · 편미분 · 연쇄율 등 인공지능에 필요한 여러 가지 미분 관련 지식을 학습합니다.  \n",
    "미분은 한마디로 변화의 비율을 말합니다. 예를 들어 움직이는 물체의 위치를 시간으로 미분하면 그 물체의 속도가 됩니다.  \n",
    "인공지능에서는 다변수함수나 합성함수 등의 조금 복잡한 함수를 미분해야 합니다. 어렵게 느껴질 수도 있지만 이 장에서는 이것들을 하나하나 차근차근 설명합니다.  \n",
    "여러 가지 인공지능 기술의 배경이 되는 이론에 미분은 불가결한 것인데, 이 장에서는 미분의 기본부터 시작해서 다변수로 이뤄진 함수의 미분, 여러 개의 함수로 이뤄진 합성함수의 미분 등을 설명합니다.\n",
    "복잡한 함수의 미분을 학습함으로써 어떤 파라미터가 전체에 미치는 영향을 예측할 수 있게 됩니다."
   ]
  },
  {
   "cell_type": "markdown",
   "id": "8c99081a",
   "metadata": {},
   "source": [
    "## 5.1 극한과 미분\n",
    "\n",
    "극한의 개념 그리고 이를 기반으로 한 미분의 개념을 이해합시다. 미분은 어떤 함수상의 각 점에서의 변화의 비율로 인공지능에서 자주 사용합니다."
   ]
  },
  {
   "cell_type": "markdown",
   "id": "ab104268",
   "metadata": {},
   "source": [
    "### 극한\n",
    "\n",
    "**극한**은 함수에서의 변수값을 어떤 값에 가깝게 할 때, 함수의 값이 한없이 가까워지는 값을 말합니다.  \n",
    "예로서, 함수 $y = x^2 ＋ 1$에서 $x$를 점차 작게 해서 0에 가깝게 하는 경우를 생각합시다.  \n",
    "\n",
    "- $x = 2$일 때 $y = 5$\n",
    "- $x = 1$일 때 $y = 2$\n",
    "- $x = 0.5$일 때 $y = 1.25$\n",
    "- $x = 0.1$일 때 $y = 1.01$\n",
    "- $x = 0.01$일 때 $y = 1.0001$\n",
    "\n",
    "이처럼 $x$를 0에 가깝게 하면 $y$는 1에 가까워집니다.  \n",
    "이것은 다음과 같이 식으로 나타낼 수 있습니다.\n",
    "\n",
    "$$ \\lim_{x\\rightarrow0} y = \\lim_{x\\rightarrow 0} (x^2 ＋ 1) = 1$$\n",
    "\n",
    "이 식은 「$x$를 한없이 0에 가깝게 하면, $y$가 한없이 1에 가까워진다」는 의미입니다."
   ]
  },
  {
   "cell_type": "markdown",
   "id": "d73a682b",
   "metadata": {},
   "source": [
    "### 미분\n",
    "\n",
    "함수 $y = f(x)$에서 $x$의 미소한 변화량을 $x$로 하면 $x$를 $\\Delta x$만큼 변화시킬 때의 $y$ 값은 다음과 같습니다.\n",
    "\n",
    "$$ y = f(x ＋ \\Delta x) $$\n",
    "\n",
    "이 때, $y$의 미소한 변화량은 다음과 같습니다.\n",
    "\n",
    "$$ \\Delta y = f(x ＋ \\Delta x) － f(x) $$\n",
    "\n",
    "따라서, $y$의 미소한 변화 $\\Delta y$와 $x$의 미소한 변화 $\\Delta x$의 비율은 다음 식으로 표현합니다.\n",
    "\n",
    "$$ \\frac{\\Delta y}{\\Delta x} = \\frac{f(x ＋ \\Delta x) － f(x)}{\\Delta x} $$\n",
    "\n",
    "이 식에서 $\\Delta x$의 값을 0에 한없이 가까워지는 극한을 생각합니다.  \n",
    "이 극한은 새로운 함수 $f'(x)$로서 나타낼 수 있습니다.\n",
    "\n",
    "$$ f'(x) = \\lim_{\\Delta x \\rightarrow 0} \\frac{f(x ＋ \\Delta x) － f(x)}{\\Delta x} $$\n",
    "\n",
    "이 함수 $f'(x)$를 $f(x)$의 **도함수**라고 합니다.  \n",
    "그리고 함수 $f(x)$로부터 도함수 $f'(x)$를 얻는 걸 함수 $f(x)$를 **미분**한다고 합니다.  \n",
    "도함수는 다음과 같이 표기할 수도 있습니다.\n",
    "\n",
    "$$ f'(x) = \\frac{df(x)}{dx} = \\frac{d}{dx}f(x) $$\n",
    "\n",
    "이 경우는 함수의 변수가 $x$뿐인데, 이와 같은 1변수 함수에 대한 미분을 **상미분**이라고 합니다.  \n",
    "이 책에서는 $x$에 대한 $y$의 변화 비율을 **기울기**(경사, 그라디언트, 구배)라고 부르는데, 도함수에 의해 1변수 함수 상의 어떤 점에서의 기울기를 구할 수 있습니다.  \n",
    "\n",
    "함수 $f(x)$ 상의 어떤 점, $(a, f(a))$에서의 기울기는 $f'(a)$가 됩니다."
   ]
  },
  {
   "cell_type": "markdown",
   "id": "7862bc82",
   "metadata": {},
   "source": [
    "기울어진 파선은 곡선상의 점 $(a, f(a))$에서의 접선입니다. 그 접선의 $x$에 대한 $y$의 변화율, 즉, 기울기는 $f'(a)$이며, 곡선상의 이 점에서 국소적인 기울기와 같아집니다.  \n",
    "또한, 이 접선의 식은 다음과 같습니다.\n",
    "\n",
    "$$ y = f'(a)x ＋ f(a) － f'(a)a $$\n",
    "\n",
    "$x$에 $a$를 대입하면 $y$가 $f(a)$와 같아지는 것을 확인할 수 있습니다."
   ]
  },
  {
   "cell_type": "markdown",
   "id": "4465c2d3",
   "metadata": {},
   "source": [
    "### 미분 공식\n",
    "\n",
    "몇 가지 함수는 미분의 공식을 이용함으로써 간단하게 도함수를 구할 수 있습니다.  \n",
    "다음에 미분 공식 몇 가지를 소개합니다. 각 공식의 증명은 여기서는 하지 않으므로 흥미 있는 분은 각자 살펴봅시다.  \n",
    "$r$을 임의의 실수로서 $f(x) = x^r$로 했을 때, 다음이 성립됩니다.\n",
    "\n",
    "$$ \\frac{d}{dx}f(x) = \\frac{d}{dx}x^r = rx^{r－1} $$\n",
    "\n",
    "또한, 함수의 합 $f(x) ＋ g(x)$를 미분할 때는 각각을 미분해서 더합니다.\n",
    "\n",
    "$$ \\frac{d}{dx}(f(x) ＋ g(x)) = \\frac{d}{dx}f(x) ＋ \\frac{d}{dx}g(x) $$\n",
    "\n",
    "함수의 곱 $f(x)g(x)$는 다음과 같이 미분할 수 있습니다.\n",
    "\n",
    "$$ \\frac{d}{dx}(f(x)g(x)) = f(x)\\frac{d}{dx}g(x) ＋ g(x)\\frac{d}{dx}f(x) $$\n",
    "\n",
    "상수는 미분의 갔으로 나올 수 있습니다. $k$를 임의의 실수로 했을 때, 다음의 공식이 성립됩니다.\n",
    "\n",
    "$$ \\frac{d}{dx}kf(x) = f\\frac{d}{dx}f(x) $$\n",
    "\n",
    "그럼 예로서 다음의 함수를 미분해봅시다.\n",
    "\n",
    "$$ f(x) = 3x^2 ＋ 4x － 5 $$\n",
    "\n",
    "이함 수는 위의 공식들을 조합해서 다음과 같이 미분할 수 있습니다.\n",
    "\n",
    "$$ f'(x) = \\frac{d}{dx}(3x^2) \\ ＋ \\ \\frac{d}{dx}(4x^1) \\ － \\ \\frac{d}{dx}(5x^0) $$\n",
    "$$ \\\\ $$\n",
    "$$ = 3\\frac{d}{dx}(x^2) \\ ＋ \\ 4\\frac{d}{dx}(x^1) \\ － \\ 5\\frac{d}{dx}(x^0) $$\n",
    "$$ \\\\ $$\n",
    "$$ = 6x ＋ 4 $$\n",
    "\n",
    "이상과 같이 공식을 조합함으로써 여러 가지 함수의 도함수를 구할 수 있습니다."
   ]
  },
  {
   "cell_type": "markdown",
   "id": "9e4089e1",
   "metadata": {},
   "source": [
    "### 접선 그리기\n",
    "\n",
    "도함수를 사용해서 함수 $f(x) = 3x^2 \\ ＋ \\ 4x \\ － \\ 5, \\ x = 1$인 경우의 접선을 그립니다."
   ]
  },
  {
   "cell_type": "code",
   "execution_count": 2,
   "id": "120fea8b",
   "metadata": {},
   "outputs": [
    {
     "data": {
      "image/png": "[encoded data removed]",
      "text/plain": [
       "<Figure size 640x480 with 1 Axes>"
      ]
     },
     "metadata": {},
     "output_type": "display_data"
    }
   ],
   "source": [
    "#리스트 5.1\n",
    "%matplotlib inline\n",
    "\n",
    "import numpy as np\n",
    "import matplotlib.pyplot as plt\n",
    "\n",
    "def my_func(x):\n",
    "    return 3*x**2 + 4*x - 5\n",
    "\n",
    "def my_func_dif(x): # 도함수\n",
    "    return 6*x + 4\n",
    "\n",
    "x = np.linspace(-3, 3)\n",
    "y = my_func(x)\n",
    "\n",
    "a = 1\n",
    "y_t = my_func_dif(a)*x + my_func(a) - my_func_dif(a)*a\n",
    "# x=1일 때의 접선, 접선 식을 사용\n",
    "\n",
    "plt.plot(x, y, label=\"y\")\n",
    "plt.plot(x, y_t, label=\"y_t\")\n",
    "plt.legend()\n",
    "\n",
    "plt.xlabel(\"x\", size=14)\n",
    "plt.ylabel(\"y\", size=14)\n",
    "plt.grid()\n",
    "\n",
    "plt.show()"
   ]
  },
  {
   "cell_type": "markdown",
   "id": "27cc2fa6",
   "metadata": {},
   "source": [
    "도함수를 사용해서 접선을 그릴 수 있었습니다. 인공지능에서는 이처럼 국소적인 기울기를 사용해서 각 파라미터 전체의 결과에 미치는 영향을 계산합니다."
   ]
  },
  {
   "cell_type": "markdown",
   "id": "0616d8e4",
   "metadata": {},
   "source": [
    "### 연습\n",
    "\n",
    "함수 $f(x) = －2x^2 \\ ＋ \\ x \\ ＋ \\ 3$의  $x = 1$인 경우의 접선을 그립시다."
   ]
  },
  {
   "cell_type": "code",
   "execution_count": 1,
   "id": "6d575c4d",
   "metadata": {},
   "outputs": [
    {
     "data": {
      "image/png": "[encoded data removed]",
      "text/plain": [
       "<Figure size 640x480 with 1 Axes>"
      ]
     },
     "metadata": {},
     "output_type": "display_data"
    }
   ],
   "source": [
    "#리스트5.3\n",
    "\n",
    "import numpy as np\n",
    "import matplotlib.pyplot as plt\n",
    "\n",
    "def my_func(x):\n",
    "    return -2*x**2 + x + 3\n",
    "\n",
    "def my_func_dif(x): # 도함수\n",
    "    return -4*x + 1\n",
    "\n",
    "x = np.linspace(-3, 3)\n",
    "y = my_func(x)\n",
    "\n",
    "a = 1\n",
    "y_t = my_func_dif(a)*x + my_func(a) - my_func_dif(a)*a\n",
    "# x=1일 때의 접선\n",
    "\n",
    "plt.plot(x, y, label=\"y\")\n",
    "plt.plot(x, y_t, label=\"y_t\")\n",
    "plt.legend()\n",
    "\n",
    "plt.xlabel(\"x\", size=14)\n",
    "plt.ylabel(\"y\", size=14)\n",
    "plt.grid()\n",
    "\n",
    "plt.show()"
   ]
  },
  {
   "cell_type": "markdown",
   "id": "444800f0",
   "metadata": {},
   "source": [
    "## 5.2 연쇄 법칙\n",
    "\n",
    "연쇄 법칙(chain rule)애 의해 합성함수의 미분을 할 수 있습니다. 연쇄 법칙은 인공지능의 일종인 뉴럴 네트워크의 학습에 사용합니다."
   ]
  },
  {
   "cell_type": "markdown",
   "id": "79837bcb",
   "metadata": {},
   "source": [
    "### 합성함수\n",
    "\n",
    "연쇄 법칙을 다루기 전에 **합성함수**를 설명합니다. 합성함수란\n",
    "\n",
    "$$ y = f(u) $$\n",
    "$$ u = g(x) $$\n",
    "\n",
    "와 같이 여러 개 함수의 합성으로 표현되는 함수입니다.  \n",
    "예를 들어, 함수 $ y = (x^2 ＋ 1)^3 $는 다음과 같은 $u$를 끼운 합성함수라고 생각할 수 있습니다.\n",
    "\n",
    "$$ y = u^3 $$\n",
    "$$ u = x^2 ＋ 1 $$"
   ]
  },
  {
   "cell_type": "markdown",
   "id": "590fe151",
   "metadata": {},
   "source": [
    "### 연쇄 법칙(chain rule)\n",
    "\n",
    "합성함수의 미분은 구성하는 각 함수의 도함수의 곱으로 나타낼 수 있습니다. 이를 **연쇄 법칙**(chain rule)이라고 합니다.  \n",
    "연쇄 법칙은 다음의 식으로 표현됩니다.\n",
    "\n",
    "$$ \\frac{dy}{dx} = \\frac{dy}{du}\\frac{du}{dx} $$\n",
    "\n",
    "$y$가 $u$의 함수, $u$가 $x$의 함수일 때, 위의 공식을 이용해서 $y$를 $x$로 미분할 수 있습니다.  \n",
    "예로서 다음의 함수를 미분해봅시다.  \n",
    "\n",
    "$$ y = (x^3 ＋ 2x^2 ＋ 3x ＋ 4)^3 $$\n",
    "\n",
    "이 식에서의 $u$를 다음과 같이 설정합니다.\n",
    "\n",
    "$$ u = x^3 ＋ 2x^2 ＋ 3x ＋ 4 $$\n",
    "\n",
    "이로써 $y$를 다음과 같이 나타낼 수 있습니다.\n",
    "\n",
    "$$ y = u^3 $$\n",
    "\n",
    "이 때, 연쇄 법칙을 이용하면 $y$를 $x$로 미분할 수 있습니다.\n",
    "\n",
    "$$ \\frac{dy}{dx} = \\frac{dy}{du}\\frac{du}{dx} $$\n",
    "$$ \\\\ $$\n",
    "$$ = 3u^2(3x^2 ＋ 4x ＋ 3) $$\n",
    "$$ \\\\ $$\n",
    "$$ = 3(x^3 ＋ 2x^2 ＋ 3x ＋ 4)^2(3x^2 ＋ 4x ＋ 3) $$\n",
    "\n",
    "도함수를 구할 수 있었습니다. 이와 같이 합성함수는 연쇄 법칙을 이용함으로써 미분할 수 있습니다."
   ]
  },
  {
   "cell_type": "markdown",
   "id": "3d04fc66",
   "metadata": {},
   "source": [
    "### 연쇄 법칙의 증명\n",
    "\n",
    "연쇄 법칙을 증명합니다.  \n",
    "엄밀한 증명은 아니지만, 연쇄 법칙의 이미지를 파악하는 것이 중요합니다.  \n",
    "$y = f(u), u = g(x)$로 했을 때, $y$의 $x$에 의한 도함수는 다음과 같습니다.  \n",
    "\n",
    "$$ \\frac{dy}{dx} = \\lim_{\\Delta x\\rightarrow 0} \\frac{f(g(x ＋ \\Delta x)) － f(g(x))}{\\Delta x} $$\n",
    "$$ \\\\ $$\n",
    "$$ = \\lim_{\\Delta x \\rightarrow 0}(\\frac{f(g(x ＋ \\Delta x)) － f(g(x))}{g(x ＋ \\Delta x) － g(x)}·\\frac{g(x ＋ \\Delta x) － g(x)}{\\Delta x}) $$\n",
    "\n",
    "여기서 $\\Delta u$ = $g(x ＋ \\Delta x) - g(x)$로 해두면 $\\Delta x \\rightarrow 0$일 때, $\\Delta u \\rightarrow 0$이므로 다음과 같이 연쇄율이 도출됩니다.\n",
    "\n",
    "$$ \\frac{dy}{dx} = \\lim_{\\Delta x \\rightarrow 0}(\\frac{f(u ＋ \\Delta u) － f(u)}{\\Delta u} · \\frac{\\Delta u}{\\Delta x})$$\n",
    "$$ \\\\ $$\n",
    "$$ = \\lim_{\\Delta u \\rightarrow 0}(\\frac{f(u ＋ \\Delta u) － f(u)}{\\Delta u})·\\lim_{\\Delta x \\rightarrow 0} \\frac{\\Delta u}{\\Delta x} $$\n",
    "$$ \\\\ $$\n",
    "$$ = \\frac{dy}{du} \\frac{du}{dx} $$\n",
    "\n",
    "연쇄 법칙을 엄밀하게 증명하기 위해서는 위에 적은 $\\Delta u = g(x ＋ \\Delta x) － g(x)$가 어떤 구간에서 0이 되어버리는 경우도 고려해야 합니다. 이 경우, 분모가 0이 되는 문제에 대처해야 합니다."
   ]
  },
  {
   "cell_type": "markdown",
   "id": "b2dd4273",
   "metadata": {},
   "source": [
    "### 연습\n",
    "\n",
    "**문제**  \n",
    "다음의 합성함수의 도함수를 연쇄 법칙을 사용해서 구합시다.  \n",
    "정답은 종이에 적거나 Jupyter Notebook의 셀에 LaTeX으로 기술해도 됩니다.\n",
    "\n",
    "$$ y = (x^2 ＋ 4x ＋ 1)^4 $$\n",
    "  \n",
    "  \n",
    "**정답 예**\n",
    "\n",
    "$$ u = x^2 ＋ 4x ＋ 1 $$\n",
    "$$ \\\\ $$\n",
    "$$ y = u^4 $$\n",
    "\n",
    "라고 두면, 연쇄율에 의해\n",
    "\n",
    "$$ \\frac{dy}{dx} = \\frac{dy}{du} \\frac{du}{dx} $$\n",
    "$$ \\\\ $$\n",
    "$$ = 4u^3(2x ＋ 4) $$\n",
    "$$ \\\\ $$\n",
    "$$ = 4(x^2 ＋ 4x ＋ 1)^3(2x ＋ 4) $$"
   ]
  },
  {
   "cell_type": "markdown",
   "id": "aaef7a2b",
   "metadata": {},
   "source": [
    "## 5.3 편미분\n",
    "\n",
    "편미분에서는 다변후삼후를 하나의 변수에 대해 미분합니다.  \n",
    "인공지능에서 파라미터 하나의 변화가 전체이 미치는 영향을 구하는데 사용합니다.  "
   ]
  },
  {
   "cell_type": "markdown",
   "id": "b940b481",
   "metadata": {},
   "source": [
    "### 편미분\n",
    "\n",
    "여러 개의 변수를 가진 함수에 대해 하나의 변수만으로 인한 미분을 **편미분**이라고 합니다.  \n",
    "편미분의 경우 다른 변수는 상수로 취급합니다.  \n",
    "예를 들어, 2변수로 이루어진 함수 $f(x, y)$의 편미분은 다음과 같이 $\\delta$(델, 디, 파셜 등으로 읽는가)의 기호를 사용해 나타낼 수 있습니다.  \n",
    "\n",
    "$$ \\frac{\\delta}{\\delta x}f(x, y) = \\lim_{\\Delta x \\rightarrow 0} \\frac{f(x ＋ \\Delta x, y) － f(x, y)}{\\Delta} $$\n",
    "\n",
    "$x$만 미소(微小)한 양 $\\Delta x$ 만큼 변화시키고, $\\Delta x$를 한없이 0에 가깝게 합니다. $y$는 미소 변화하지 않으므로 편미분일 때는 상수처럼 취급할 수 있습니다.  \n",
    "\n",
    "$$ y = f(x_1, x_2, ···, x_i, ···) $$\n",
    "$$ 기울기: \\frac{\\delta}{\\delta x_i} f(x_1, x_2, ···, x_i, ···) $$\n",
    "\n",
    "위에서 $x_i$ 이외의 변수를 고정하고, $x_i$에 대한 $f(x_1, x_2, ···, x_i, ···)$ 변화의 비율을 구합니다.  \n",
    "이처럼 편미분에서는 어떤 변수 $x_i$이외의 변수를 고정해서 $x_i$의 변화에 대한 $f(x_1, x_2, ···, x_i, ···)$의 변화 비율, 즉 기울기를 구합니다."
   ]
  },
  {
   "cell_type": "markdown",
   "id": "1c5c6654",
   "metadata": {},
   "source": [
    "### 편미분의 예\n",
    "\n",
    "예로서 다음과 같은 변수 $x, y$를 가진 함수 $f(x, y)$를 생각해 봅시다.  \n",
    "\n",
    "$$f(x, y) = 3x^2 ＋ 4xy ＋ 5y^3 $$\n",
    "\n",
    "이 함수를 편미분합니다. 편미분일 때는 $y$를 상수로서 취급, 미분의 공식을 이용해서 $x$로 미분합니다.  \n",
    "이로써 다음의 식을 얻을 수 있습니다. 편미분에서는 $d$가 아닌 $\\delta$ 기호를 사용합니다.  \n",
    "\n",
    "$$ \\frac{\\delta}{\\delta x} f(x, y) = 6x ＋ 4y $$\n",
    "\n",
    "이러한 편미분에 의해 구한 함수를 **편도함수**라고 합니다. 이 경우, 편도함수는 $y$의 값을 고정했을 때의 $x$의 변화에 대한 $f(x, y)$의 변화의 비율이 됩니다.  \n",
    "$f(x, y)$의 $y$에 의한 편미분은 다음과 같습니다. 이 경우 $x$는 상수로서 취급합니다.\n",
    "\n",
    "$$ \\frac{\\delta}{\\delta y} f(x, y) = 4x ＋ 15y^2 $$\n",
    "\n",
    "이것은 $x$의 값을 고정했을 때의 $y$의 변화에 대한 $f(x, y)$의 변화의 비율이 됩니다.  \n",
    "편미분을 이용함으로써 특정 파라미터의 매우 작은 변화가 결과에 미치는 영향을 예측할 수 있습니다."
   ]
  },
  {
   "cell_type": "markdown",
   "id": "937edba6",
   "metadata": {},
   "source": [
    "### 연습\n",
    "\n",
    "**문제**  \n",
    "다음의 2변수 함수를 $x$ 및 $y$로 편미분합시다.  \n",
    "정답은 종이에 적거나 Jupyter Notebook의 셀에 LaTeX으로 기술해도 됩니다.\n",
    "\n",
    "$$ f(x, y) = 2x^3 ＋ 4x^2y ＋ xy^2 － 4y^2 $$\n",
    "\n",
    "**정답 예**  \n",
    "\n",
    "$$ \\frac{\\delta}{\\delta x} f(x, y) = 6x^2 ＋ 8xy ＋ y^2 $$\n",
    "$$ \\\\ $$\n",
    "$$ \\frac{\\delta}{\\delta y} f(x, y) = 4x^2 ＋ 2xy － 8y $$"
   ]
  },
  {
   "cell_type": "markdown",
   "id": "a2d2b77f",
   "metadata": {},
   "source": [
    "## 5.4 전미분\n",
    "\n",
    "전미분에서는 다변수함수의 미소변화를 전체 변수의 미소변화를 사용해서 구합니다."
   ]
  },
  {
   "cell_type": "markdown",
   "id": "94764f81",
   "metadata": {},
   "source": [
    "### 전미분\n",
    "\n",
    "2변수함수 $ z = f(x, y)$의 **전미분**은 다음의 식으로 표현됩니다.  \n",
    "\n",
    "$$ dz = \\frac{\\delta z}{\\delta x} dx ＋ \\frac{\\delta z}{\\delta y} dy $$\n",
    "\n",
    "$x$의 의한 편미분에 $x$의 미소변화 $dx$를 곱한 것과 $y$에 의한 편미분에 $y$의 미소변화 $dy$를 곱한 것을 더하여, $z$의 미소변화 $dz$를 구합니다.  \n",
    "변수가 2개보다 많은 함수도 있을 수 있으므로 더욱 범용적인 형태로 적어봅시다.  \n",
    "다음은 $n$개의 변수를 가진 함수 $z$의 전미분입니다. $x_i$가 각 변수를 나타냅니다.  \n",
    "\n",
    "$$ dz = \\sum_{i = 1}^n \\frac{\\delta z}{\\delta x_i} dx_i $$\n",
    "\n",
    "전미분을 이용함으로써 다변수 함수의 미소한 변화량을 각 변수에 의한 편미분과 각 변수의 미소한 변화에 의해 구할 수 있습니다.  \n",
    "인공지능에서는 많은 파라미터를 가진 다변수 함수를 취급하므로 결과의 미소한 변화량을 구할 때 전미분이 도움이 됩니다."
   ]
  },
  {
   "cell_type": "markdown",
   "id": "d42a21e8",
   "metadata": {},
   "source": [
    "### 전미분 식의 도출\n",
    "\n",
    "함수 $z = f(x, y)$를 생각합시다. $x$의 미소한 변화를 $\\Delta x, y$의 미소한 변화를 $\\Delta y$로 하면 $z$의 미소한 변화 $\\Delta z$는 다음과 같습니다.  \n",
    "\n",
    "$$ \\Delta z = f(x ＋ \\Delta x, y ＋ \\Delta y) － f(x, y) $$\n",
    "$$ \\\\ $$\n",
    "$$ = f(x ＋ \\Delta x, y ＋ \\Delta y) － f(x, y ＋ \\Delta y) ＋ f(x, y ＋ \\Delta y) － f(x, y) $$\n",
    "$$ \\\\ $$\n",
    "$$ = \\frac{f(x ＋ \\Delta x, y ＋ \\Delta y) － f(x,y ＋ \\Delta y)}{\\Delta x} \\ \\ \\ \\ \\Delta x ＋ \\frac{f(x, y ＋ \\Delta y) － f(x, y)}{\\Delta y} \\ \\ \\Delta y $$\n",
    "\n",
    "이 식에서 $\\Delta x$와 $\\Delta y$를 다음과 같이 0에 한없이 가깝게 합니다.  \n",
    "\n",
    "$$ \\lim_{\\Delta x \\rightarrow 0 \\Delta y \\rightarrow 0} \\Delta z = \\lim_{\\Delta x \\rightarrow 0 \\Delta y \\rightarrow 0} \\frac{f(x ＋ \\Delta x, y ＋ \\Delta y) － f(x,y ＋ \\Delta y)}{\\Delta x} \\ \\ \\ \\ \\Delta x \\ ＋ \\lim_{\\Delta x \\rightarrow 0 \\Delta y \\rightarrow 0} \\frac{f(x, y ＋ \\Delta y) － f(x, y)}{\\Delta y} \\ \\ \\Delta y $$\n",
    "\n",
    "이 식에서 $\\Delta y$가 충분히 작으면 우변 제1항의 $\\Delta y$는 무시할 수 있습니다.  \n",
    "이 때, 우변의 제1항, 제2항 모두 편미분 정의의 식을 포함하게 됩니다.  \n",
    "또한 좌변을 $dz$, 미소량 $\\Delta x$와 $\\Delta y$를 $dx, dy$로 해두면 다음 식이 도출됩니다.  \n",
    "\n",
    "$$ dz = \\frac{\\delta z}{\\delta x} dx ＋ \\frac{\\delta z}{\\delta y} dy $$"
   ]
  },
  {
   "cell_type": "markdown",
   "id": "879bfeb0",
   "metadata": {},
   "source": [
    "### 전미분의 예\n",
    "\n",
    "다음 함수를 전미분해 봅시다.\n",
    "\n",
    "$$ f(x, y) = 3x^2 ＋ 4xy ＋ 5y^3 $$\n",
    "\n",
    "$x$ 및 $y$에 의한 편미분은 다음과 같습니다.  \n",
    "\n",
    "$$ \\frac{\\delta}{\\delta x} f(x, y) = 6x ＋ 4y $$\n",
    "$$ \\\\ $$\n",
    "$$ \\frac{\\delta}{\\delta y} f(x, y) = 4x ＋ 15y^2 $$\n",
    "\n",
    "따라서 전미분은 다음과 같이 표현됩니다.\n",
    "\n",
    "$$ dz = (6x ＋ 4y)dx ＋ (4x ＋ 15y^2)dy $$"
   ]
  },
  {
   "cell_type": "markdown",
   "id": "f78f28d1",
   "metadata": {},
   "source": [
    "### 연습\n",
    "\n",
    "**문제**  \n",
    "다음의 2변수 함수를 전미분합시다.  \n",
    "정갑은 종이에 적거나 Jupyter Notebook의 셀에 LaTeX으로 기술해도 됩니다.  \n",
    "\n",
    "$$ f(x, y) = 2x^3 ＋ 4x^2y ＋ xy^2 － 4y^2 $$\n",
    "\n",
    "**정답 예**\n",
    "\n",
    "$$ \\frac{\\delta}{\\delta x} f(x, y) = 6x^2 ＋ 8xy ＋ y^2 $$\n",
    "$$ \\\\ $$\n",
    "$$ \\frac{\\delta}{\\delta y} f(x, y) = 4x^2 ＋ 2xy － 8y $$\n",
    "\n",
    "따라서 전미분 식에 의해\n",
    "\n",
    "$$ dz = (6x^2 ＋ 8xy ＋ y^2)dx ＋ (4x^2 ＋ 2xy － 8y)dy $$"
   ]
  },
  {
   "cell_type": "markdown",
   "id": "ec0e2149",
   "metadata": {},
   "source": [
    "## 5.5 다변수 합성함수의 연쇄 법칙\n",
    "\n",
    "다변수로 이루어진 합성함수를 연쇄 법칙에 의해 미분합니다."
   ]
  },
  {
   "cell_type": "markdown",
   "id": "5fbf971e",
   "metadata": {},
   "source": [
    "### 다변수 합성함수의 미분①\n",
    "\n",
    "다변수로 이루어진 합성함수에 연쇄 법칙을 적용합시다.  \n",
    "먼저 다음 합성함수를 생각해 봅시다.  \n",
    "\n",
    "$$ z = f(u, v) $$\n",
    "$$ \\\\ $$\n",
    "$$ u = g(x) $$\n",
    "$$ \\\\ $$\n",
    "$$ v = h(x) $$\n",
    "\n",
    "$z$는 $u$와 $v$의 함수이고, $u$와 $v$는 각각 $x$의 함수입니다. 이 합성함수로 $\\frac{dz}{dx}$를 구합시다.  \n",
    "이 경우, 앞에서 다룬 전미분의 식에 의해 다음이 성립됩니다.  \n",
    "\n",
    "$$ dz = \\frac{\\delta z}{\\delta u}du ＋ \\frac{\\delta z}{\\delta v}dv $$\n",
    "\n",
    "이 식의 양변을 미소향 $dx$로 나눠서 합성함수 $z$의 $x$에 의한 미분을 얻을 수 있습니다.  \n",
    "\n",
    "$$ \\frac{dz}{dx} = \\frac{\\delta z}{\\delta u}\\frac{du}{dx} ＋ \\frac{\\delta z}{\\delta v}\\frac{dv}{dx} $$\n",
    "\n",
    "이 식을 일반화합니다. $u$나 $v$처럼 매개하는 변수가 $m$개 있다고 하면 다음과 같이 나타낼 수 있습니다.  \n",
    "\n",
    "$$ \\frac{dz}{dx} = \\sum_{i=1}^m \\frac{\\delta z}{\\delta u_i}\\frac{du_i}{dx} $$\n",
    "\n",
    "$u_i$는 위의 $u, v$처럼 매개하는 변수입니다. 앞에서 설명한 연쇄 법칙 식에 총합 기호가 $\\Sigma$가 더 붙었습니다."
   ]
  },
  {
   "cell_type": "markdown",
   "id": "4549d513",
   "metadata": {},
   "source": [
    "### 다변수 합성함수의 미분②\n",
    "\n",
    "동일한 프로세스를 다음의 합성함수에 적용해 봅시다.  \n",
    "\n",
    "$$ z = f(u, v) $$\n",
    "$$ \\\\ $$\n",
    "$$ u = g(x, y) $$\n",
    "$$ \\\\ $$\n",
    "$$ v = h(x, y) $$\n",
    "\n",
    "$z$는 $u$와 $v$의 함수이며, $u$와 $v$는 모두 $x$와 $y$의 함수입니다.  \n",
    "이 경우, $z$의 $x$에 대한 변화의 비율과 $z$의 $y$에 의한 변화의 비율은 편미분으로 표현됩니다.  \n",
    "이것들은 전미분의 식을 적용하면 다음과 같습니다.  \n",
    "\n",
    "$$ \\frac{\\delta z}{\\delta x} = \\frac{\\delta z}{\\delta u}\\frac{\\delta u}{\\delta x} ＋ \\frac{\\delta z}{\\delta v}\\frac{\\delta v}{\\delta x} $$\n",
    "$$ \\\\ $$\n",
    "$$ \\frac{\\delta z}{\\delta y} = \\frac{\\delta z}{\\delta u}\\frac{\\delta u}{\\delta x} ＋ \\frac{\\delta z}{\\delta v}\\frac{\\delta v}{\\delta x} $$\n",
    "\n",
    "이것들이 식을 일반화합니다. $x_k$가 $z$를 구성하는 변수의 하나이며, 매개하는 변수가 $m$개 있을 때, 다음의 관계가 성립됩니다.  \n",
    "\n",
    "$$ \\frac{\\delta z}{\\delta x_k} = \\sum_{i=1}^m \\frac{\\delta z}{\\delta u_i}\\frac{\\delta u_i}{\\delta x_k} $$\n",
    "\n",
    "또한 위에 적은 걸 벡터로 나타냅니다. $z$가 변수 $x_1, x_2, ···, x_n$의 함수이며, 사이에 들어간 함수가 $m$개 있을 경우 다음의 관계가 성립됩니다.  \n",
    "\n",
    "$$ (\\frac{\\delta z}{\\delta x_1}, \\frac{\\delta z}{\\delta x_2}, ····, \\frac{\\delta z}{\\delta x_n}) = (\\sum_{i=1}^m \\frac{\\delta z}{\\delta u_i}\\frac{\\delta u_i}{\\delta x_1}, \\sum_{i=1}^m \\frac{\\delta z}{\\delta u_i}\\frac{\\delta u_i}{\\delta x_2}, ···, \\sum_{i=1}^m \\frac{\\delta z}{\\delta u_i} \\frac{\\delta u_i}{\\delta x_n}) $$\n",
    "\n",
    "이처럼 해서 모든 변수에 의한 편도함수를 한 번에 나타낼 수 있습니다.  \n",
    "이상으로부터 다변수의 연쇄 법칙을 일반적인 형태로 나타냈습니다. 인공지능에서는 다변수의 합성함수를 다루는데 각 변수가 함수에 주는 영향을 연쇄 법칙에 의해 구할 수 있습니다."
   ]
  },
  {
   "cell_type": "markdown",
   "id": "9cad6928",
   "metadata": {},
   "source": [
    "### 다변수 합성함수의 미분의 예\n",
    "\n",
    "다음의 합성함수를 $x$로 미분합니다.  \n",
    "\n",
    "$$ z = u^3 ＋ 3v^2 $$\n",
    "$$ \\\\ $$\n",
    "$$ u = 2x^2 ＋ 3x ＋ 4 $$\n",
    "$$ \\\\ $$\n",
    "$$ v = x^2 ＋ 5 $$\n",
    "\n",
    "전미분의 식에 의해\n",
    "\n",
    "$$ \\frac{dz}{dx} = \\frac{\\delta z}{\\delta u}\\frac{du}{dx} ＋ \\frac{\\delta z}{\\delta v}\\frac{dv}{dx} $$\n",
    "$$ \\\\ $$\n",
    "$$ = 3u^3(4x ＋ 3) ＋ 6v(2x) $$\n",
    "$$ \\\\ $$\n",
    "$$ = 3(2x^2 ＋ 3x ＋ 4)^2(4x ＋ 3) ＋ 12x(x^2 ＋ 5) $$\n",
    "\n",
    "이처럼 다변수의 합성함수라도 연쇄 법칙을 이용하면 미분할 수 있습니다.  "
   ]
  },
  {
   "cell_type": "markdown",
   "id": "4ab8a176",
   "metadata": {},
   "source": [
    "### 연습\n",
    "\n",
    "**문제**  \n",
    "다음의 합성함수 $z$를 $x$로 미분합시다.  \n",
    "정답은 종이에 적거나 Jupyter Notebook의 셀에 LaTeX으로 기술해도 됩니다.  \n",
    "\n",
    "$$ z = 2u^3 ＋ uv^2 ＋ 4v $$\n",
    "$$ \\\\ $$\n",
    "$$ u = x^2 ＋ 3x $$\n",
    "$$ \\\\ $$\n",
    "$$ v = x ＋ 7 $$\n",
    "\n",
    "**정답 예**  \n",
    "전미분의 식에 의해\n",
    "\n",
    "$$ \\frac{dz}{dx} = \\frac{\\delta z}{\\delta u}\\frac{du}{dx} ＋ \\frac{\\delta z}{\\delta v}\\frac{dv}{dx} $$\n",
    "$$ \\\\ $$\n",
    "$$ = (6u^2 ＋ v^2)(2x ＋ 3) ＋ (2uv ＋ 4) $$\n",
    "$$ \\\\ $$\n",
    "$$ = (6(x^2 ＋ 2x)^2 ＋ (x ＋ 7)^2)(2x ＋ 3) ＋ 2(x^2 ＋ 3x)(x ＋ 7) ＋ 4 $$"
   ]
  },
  {
   "cell_type": "markdown",
   "id": "d59a0ba6",
   "metadata": {},
   "source": [
    "## 5.6 네이피어수와 자연대수\n",
    "\n",
    "네이피어수와 자연대수는 인공지능의 여러 가지 경우에서 사용됩니다."
   ]
  },
  {
   "cell_type": "markdown",
   "id": "33662c26",
   "metadata": {},
   "source": [
    "### 네이피어수\n",
    "\n",
    "**네이피어수** $e$는 수학적으로 매우 편리한 성질을 사진 수입니다. 네이피어수의 값은 원주율 $\\pi$처럼 무한으로 자리수가 이어지는 소수입니다.  \n",
    "\n",
    "$$ e = 2.718281828459045235360287471352... $$\n",
    "\n",
    "$e$의 값인데 다음의 극한으로 구할 수 잇습니다.  \n",
    "\n",
    "$$ e = \\lim_{n \\rightarrow \\infty} (1 ＋ \\frac{1}{n})^n $$\n",
    "\n",
    "$( 1 ＋ \\frac{1}{n})^n$은 $n$이 커지면 점차 $e$의 값에 가까워지는데 이것에 관해서는 추후 연습에서 확인합니다.  \n",
    "네이피어수는 다음과 같은 거듭제곱의 형태로 자주 이용됩니다.  \n",
    "\n",
    "$$ y = e^x $$\n",
    "\n",
    "이 식은 다음과 같이 미분해도 식이 변하지 않는 편리한 특징을 갖고 있습니다.  \n",
    "\n",
    "$$ \\frac{\\delta y}{\\delta x} = \\lim_{\\Delta x \\rightarrow 0} \\frac{e^{x ＋ \\Delta x} － e^{x}}{\\delta x} $$\n",
    "$$ \\\\ $$\n",
    "$$ = e^x $$\n",
    "\n",
    "이 성징때문에 네이피어수는 수학적으로 다루기 쉽고 인공지능에서의 여러 가지 수식에서 사용됩니다.  \n",
    "$ y = e^x $는 다음과 같이 표기할 수도 있습니다.\n",
    "\n",
    "$$ y = exp(x) $$\n",
    "\n",
    "이 표기는 괄호 안에 많은 기술을 해야 하는 경우에 편리합니다. $e$의 오른쪽 위에 작은 문자로 많은 기술이 있으면 식을 읽기 힘들기 때문입니다.  \n",
    "\n",
    "Pythin에서 **1.2e5, 2.4e-4** 등의 수치 표기에 이용되는 **e**는 네이피어수와는 관계 없습니다."
   ]
  },
  {
   "cell_type": "markdown",
   "id": "3c2ee471",
   "metadata": {},
   "source": [
    "### 네이피어수의 구현\n",
    "\n",
    "네이피어수는 NumPy에서의 **e**로 취득할 수 있습니다. 또한, 네이피어수의 거듭제곱은 NumPy의 **exp()** 함수로 구현할 수 있습니다."
   ]
  },
  {
   "cell_type": "code",
   "execution_count": 1,
   "id": "9ca096ec",
   "metadata": {},
   "outputs": [
    {
     "name": "stdout",
     "output_type": "stream",
     "text": [
      "2.718281828459045\n",
      "2.718281828459045\n"
     ]
    }
   ],
   "source": [
    "#리스트5.4\n",
    "\n",
    "import numpy as np\n",
    "\n",
    "print(np.e) # 네이피어수\n",
    "print(np.exp(1)) # e의 1제곱"
   ]
  },
  {
   "cell_type": "markdown",
   "id": "7b6806b3",
   "metadata": {},
   "source": [
    "다음으로 아래의 식으로 나타내는 네이피어수의 거듭제곱을 그래프로 합니다.\n",
    "\n",
    "$$ y = exp(x) $$"
   ]
  },
  {
   "cell_type": "code",
   "execution_count": 2,
   "id": "17431b8b",
   "metadata": {},
   "outputs": [
    {
     "data": {
      "image/png": "[encoded data removed]",
      "text/plain": [
       "<Figure size 640x480 with 1 Axes>"
      ]
     },
     "metadata": {},
     "output_type": "display_data"
    }
   ],
   "source": [
    "#리스트5.5\n",
    "\n",
    "%matplotlib inline\n",
    "\n",
    "import numpy as np\n",
    "import matplotlib.pyplot as plt\n",
    "\n",
    "x = np.linspace(-2, 2)\n",
    "y = np.exp(x) # 네이피어수의 거듭제곱\n",
    "\n",
    "plt.plot(x, y)\n",
    "\n",
    "plt.xlabel(\"x\", size=14)\n",
    "plt.ylabel(\"y\", size=14)\n",
    "plt.grid()\n",
    "\n",
    "plt.show()"
   ]
  },
  {
   "cell_type": "markdown",
   "id": "a10219ee",
   "metadata": {},
   "source": [
    "네이피어수의 거듭제곱은 $x$가 0일 대 1이 되고, $x$가 1일 때 네이피어수의 값이 됩니다.  \n",
    "$x$가 작아지면 0에 가까워지고, $x$가 커짐과 동시에 증가율이 증대합니다."
   ]
  }
 ],
 "metadata": {
  "kernelspec": {
   "display_name": "Python 3 (ipykernel)",
   "language": "python",
   "name": "python3"
  },
  "language_info": {
   "codemirror_mode": {
    "name": "ipython",
    "version": 3
   },
   "file_extension": ".py",
   "mimetype": "text/x-python",
   "name": "python",
   "nbconvert_exporter": "python",
   "pygments_lexer": "ipython3",
   "version": "3.9.13"
  }
 },
 "nbformat": 4,
 "nbformat_minor": 5
}
