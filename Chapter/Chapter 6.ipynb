{
 "cells": [
  {
   "cell_type": "markdown",
   "id": "3a94c8fe",
   "metadata": {},
   "source": [
    "# 6장 - 확률 · 통계\n",
    "\n",
    "이 장에서는 확률·통계를 학습합니다. 인공지능에서는 많은 데이터를 다루는데 확률·통계를 학습함으로써 데이터의 경향을 파악하거나 결과를 확률로 파악할 수 있습니다.  \n",
    "통계는 데이터의 경향이나 특징을 여러 가지 지표로 파악하고, 확률은 세계를 「일어나기 쉬운 정도」로서 파악합니다. 이것들을 잘 활용하면 데이터의 전체상을 차악해 미래를 예측할 수 있습니다.  \n",
    "이 장에서는 수식을 코드로 나타내는 그래프를 그려서 확률·통계를 논리, 이미지의 양쪽 측면으로 설명합니다."
   ]
  }
 ],
 "metadata": {
  "kernelspec": {
   "display_name": "Python 3 (ipykernel)",
   "language": "python",
   "name": "python3"
  },
  "language_info": {
   "codemirror_mode": {
    "name": "ipython",
    "version": 3
   },
   "file_extension": ".py",
   "mimetype": "text/x-python",
   "name": "python",
   "nbconvert_exporter": "python",
   "pygments_lexer": "ipython3",
   "version": "3.9.13"
  }
 },
 "nbformat": 4,
 "nbformat_minor": 5
}
