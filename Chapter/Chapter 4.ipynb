{
 "cells": [
  {
   "cell_type": "markdown",
   "id": "a40175b8",
   "metadata": {},
   "source": [
    "# 4장 - 선형대수\n",
    "\n",
    "#### 선형대수는 다차원 구조를 가진 수치의 나열을 다루는 수학의 분야 중 한 가지입니다. 그러한 다차원 구조에는 스칼라, 벡터, 텐서라 부르는 것이 있습니다. 인공지능에서는 매우 많은 수치를 다워야 하는데 선형대수를 이용하면 많은 수치에 대한 처리를 간결한 수식으로 기술할 수 있습니다. 그리고 그 수식은 NumPy로 간단하게 코드로 나타낼 수 있습니다."
   ]
  },
  {
   "cell_type": "markdown",
   "id": "e56c77eb",
   "metadata": {},
   "source": [
    "## 4.1 스칼라, 벡터, 행렬, 텐서\n",
    "\n",
    "여러 개의 데이터를 하나로 묶어 다루는 방법을 배웁니다. 인공지능에서는 많은 양의 데이터를 다루기 때문에 스칼라, 벡터, 행려르, 텐서는 중요한 개념입니다."
   ]
  },
  {
   "cell_type": "markdown",
   "id": "ff5dcd5a",
   "metadata": {},
   "source": [
    "### 스칼라\n",
    "\n",
    "스칼라(scalar)는 1, 5, 1.2, -7 등의 보통의 수치를 말합니다. 이 책에서는 수식에서의 알파벳, 또는 그리스 문자의 소문자는 스칼라를 나타내는 것으로 합니다.\n",
    "\n",
    "- 스칼라의 표시 예 : a, p, $\\alpha$, $\\gamma$"
   ]
  },
  {
   "cell_type": "markdown",
   "id": "56f55a3d",
   "metadata": {},
   "source": [
    "### 벡터\n",
    "\n",
    "벡터는 스칼라를 직선 상에 나열한 것입니다. 이 책의 수식에서는 알파벳의 소문자에 화살표를 올린 것으로 벡터를 나타냅니다.  \n",
    "\n",
    "$$ \\vec{a} = \\left( \\begin{array}{cc} \\ 1 \\ \\\\ \\ 2 \\ \\\\ \\ 3 \\ \\\\ \\end{array} \\right) $$\n",
    "  \n",
    "$$ \\vec{b} = (－2.4, \\ 0.25, \\ －1.3, \\ 1.8, \\ 0.61) $$\n",
    "\n",
    "$$ \\vec{p} = \\left( \\begin{array}{cc} \\ p_1 \\ \\\\ \\ p_2 \\ \\\\ \\ \\vdots \\ \\\\ \\ p_m \\ \\\\ \\end{array} \\right) $$\n",
    "  \n",
    "$$ \\vec{q} = (q_1, \\ q_2, \\ \\cdots, \\ q_n) $$\n",
    "\n",
    "벡터에는 위의 $\\vec{a}, \\vec{p}$와 같이 세로로 수치를 나열하는 세로 벡터와 $\\vec{b}, \\vec{q}$처럼 가로로 수치를 나열하는 가로 벡터가 있습니다. 이 책에서는 앞으로 가로 벡터를 주로 사용하므로 단지 벡터라고 기술할 때는 가로 벡터를 나타내는 것으로 합니다. 또한, $\\vec{p}, \\vec{q}$로 볼 수 있듯 벡터의 요소를 변후로 나타낼 때의 첨자 수는 1개입니다."
   ]
  },
  {
   "cell_type": "markdown",
   "id": "041e61bd",
   "metadata": {},
   "source": [
    "### 벡터의 구현\n",
    "\n",
    "벡터는 NumPy의 1차원 배열을 이용해서 나타낼 수 있습니다."
   ]
  },
  {
   "cell_type": "code",
   "execution_count": 1,
   "id": "c2a38032",
   "metadata": {},
   "outputs": [
    {
     "name": "stdout",
     "output_type": "stream",
     "text": [
      "[1 2 3]\n",
      "[-2.4   0.25 -1.3   1.8   0.61]\n"
     ]
    }
   ],
   "source": [
    "#리스트4.2\n",
    "import numpy as np\n",
    "\n",
    "a = np.array([1, 2, 3]) # 1차원 배열로 벡터를 나타낸다\n",
    "print(a)\n",
    "\n",
    "b = np.array([-2.4, 0.25, -1.3, 1.8, 0.61])\n",
    "print(b)"
   ]
  },
  {
   "cell_type": "markdown",
   "id": "bf6bd3dd",
   "metadata": {},
   "source": [
    "수치가 직선 상에 나열되어 있는 걸 확인할 수 있습니다."
   ]
  },
  {
   "cell_type": "markdown",
   "id": "112c675b",
   "metadata": {},
   "source": [
    "### 행렬\n",
    "\n",
    "헹렬은 스칼라를 격자 형태로 나열한 것으로 예를 들어 다음과 같이 표기합니다.\n",
    "\n",
    "$$ \\left( \\begin{array}{cc}\n",
    "0.12 & －0.34 & 1.3 & 0.81 \\\\\n",
    "－1.4 & 0.25 & 0.69 & －0.41 \\\\\n",
    "0.25 & －1.5 & －0.15 & 1.1 \\\\\n",
    "\\end{array} \\right) $$\n",
    "\n",
    "행렬에서 수평 방향의 스칼라의 나열을 **행**, 수직 방향의 스칼라의 나열을 **열**이라고 합니다.  \n",
    "\n",
    "행은 위에서부터 첫 번째, 두 번째, 세 번째, ...로 셉니다. 열은 왼쪽부터 첫 번째 열, 두 번째 열, 세 번째 열, ...로 셉니다. 또한, 행이 $m$개, 열이 $n$개 나열하는 행렬을 $m × n$ 행렬로 표현합니다."
   ]
  },
  {
   "cell_type": "markdown",
   "id": "6af9c057",
   "metadata": {},
   "source": [
    "### 행렬의 구현\n",
    "\n",
    "NumPy의 2차원 배열을 이용해서 행렬을 표현할 수 있습니다."
   ]
  },
  {
   "cell_type": "code",
   "execution_count": 2,
   "id": "f9685833",
   "metadata": {},
   "outputs": [
    {
     "name": "stdout",
     "output_type": "stream",
     "text": [
      "[[1 2 3]\n",
      " [4 5 6]]\n",
      "[[ 0.21  0.14]\n",
      " [-1.3   0.81]\n",
      " [ 0.12 -2.1 ]]\n"
     ]
    }
   ],
   "source": [
    "#리스트4.3\n",
    "import numpy as np\n",
    "\n",
    "a = np.array([[1, 2, 3],\n",
    "             [4, 5, 6]]) # 2x3의 행렬\n",
    "print(a)\n",
    "\n",
    "b = np.array([[0.21, 0.14],\n",
    "             [-1.3, 0.81],\n",
    "             [0.12, -2.1]]) # 3x2의 행렬\n",
    "print(b)"
   ]
  },
  {
   "cell_type": "markdown",
   "id": "0e069838",
   "metadata": {},
   "source": [
    "수치가 격자 형태로 나열된 걸 확인할 수 있습니다."
   ]
  },
  {
   "cell_type": "markdown",
   "id": "78b9f85b",
   "metadata": {},
   "source": [
    "### 텐서\n",
    "\n",
    "텐서는 스칼라를 여러 개의 차원으로 나열한 것으로 스칼라, 벡터, 행렬을 포함합니다.  \n",
    "각 요소에 붙은 첨자의 수를 그 텐서의 차원수라고 말합니다 스칼라에는 첨자가 없으므로 0차원 텐서, 벡터는 참가자 첨자가 1개이므로 1차원 텐서, 행렬은 첨자가 2개이므로 2차원 텐서입니다. 더욱 고차원인 것은 3차원 텐서, 4차원 텐서...가 됩니다."
   ]
  },
  {
   "cell_type": "markdown",
   "id": "91761d49",
   "metadata": {},
   "source": [
    "### 텐서의 구현\n",
    "\n",
    "NumPy의 다차원 배열을 이용하면 3차원 텐서를 구현할 수 있습니다."
   ]
  },
  {
   "cell_type": "code",
   "execution_count": 3,
   "id": "acce004a",
   "metadata": {},
   "outputs": [
    {
     "name": "stdout",
     "output_type": "stream",
     "text": [
      "[[[0 1 2 3]\n",
      "  [2 3 4 5]\n",
      "  [4 5 6 7]]\n",
      "\n",
      " [[1 2 3 4]\n",
      "  [3 4 5 6]\n",
      "  [5 6 7 8]]]\n"
     ]
    }
   ],
   "source": [
    "#리스트4.4\n",
    "import numpy as np\n",
    "\n",
    "a = np.array([[[0, 1, 2, 3],\n",
    "              [2, 3, 4, 5],\n",
    "              [4, 5, 6, 7]],\n",
    "              [[1, 2, 3, 4],\n",
    "               [3, 4, 5, 6],\n",
    "               [5, 6, 7, 8]]]) # (2, 3, 4)의 3차원 텐서\n",
    "print(a)"
   ]
  },
  {
   "cell_type": "markdown",
   "id": "2b49d09e",
   "metadata": {},
   "source": [
    "행렬이 2개 나열되어 있는 것을 확인할 수 있습니다. 코드에서 a는 3차원 텐서입니다. NumPy의 다차원 배열에 의해 더욱 층수가 많은 텐서를 표현할 수도 있습니다."
   ]
  },
  {
   "cell_type": "markdown",
   "id": "b67053f8",
   "metadata": {},
   "source": [
    "## 4.2 벡터의 내적과 놈\n",
    "\n",
    "벡터의 내적과 놈의 의의와 계산 방법을 배웁니다. 벡터의 조작에 익숙해집시다."
   ]
  },
  {
   "cell_type": "markdown",
   "id": "4202af42",
   "metadata": {},
   "source": [
    "### 내적\n",
    "\n",
    "내적은 벡터끼리의 곱의 한 종류인데 각 요소끼리 곱한 값을 총합해서 정의합니다.\n",
    "\n",
    "$$\\vec{a} = (a_1, a_2,ㆍㆍㆍ, a_n)$$\n",
    "$$\\vec{b} = (b_1, b_2,ㆍㆍㆍ, b_n)$$\n",
    "\n",
    "위와 같을 때, $\\vec{a}$와 $\\vec{b}$의 내적이 $\\vec{a}$ㆍ$\\vec{b}$로 표시되게 하면 다음과 같습니다.\n",
    "\n",
    "$$\\vec{a}ㆍ\\vec{b} = (a_1, a_2,ㆍㆍㆍ, a_n)ㆍ(b_1, b_2,ㆍㆍㆍ, b_n)$$\n",
    "$$= (a_1b_1 ＋ a_2b_2 ＋ㆍㆍㆍ＋ a_nb_n)$$\n",
    "$$= \\sum_{k=1}^n a_kb_k$$\n",
    "\n",
    "내적을 구할 때는 두 개의 벡터의 요소 수가 같아야 합니다. 내적은 삼각함수를 사용해 구하는 방법이 있는데 이것에 대해서는 이후에 설명합니다."
   ]
  },
  {
   "cell_type": "markdown",
   "id": "ccc4e7a0",
   "metadata": {},
   "source": [
    "내적은 NumPy의 **dot()** 함수로 간단하게 구현할 수 있습니다. 또한, **sum()** 함수를 사용해서 각 요소의 곱의 총합으로도 구할 수 있습니다."
   ]
  },
  {
   "cell_type": "code",
   "execution_count": 1,
   "id": "b8d516b8",
   "metadata": {},
   "outputs": [
    {
     "name": "stdout",
     "output_type": "stream",
     "text": [
      "--- dot() 함수 ---\n",
      "10\n",
      "--- 곱의 총합 ---\n",
      "10\n"
     ]
    }
   ],
   "source": [
    "#리스트4.6\n",
    "import numpy as np\n",
    "\n",
    "a = np.array([1, 2, 3])\n",
    "b = np.array([3, 2, 1])\n",
    "\n",
    "print(\"--- dot() 함수 ---\")\n",
    "print(np.dot(a, b)) # dot() 함수에 의한 내적\n",
    "print(\"--- 곱의 총합 ---\")\n",
    "print(np.sum(a * b)) # 곱의 총합에 의한 내적"
   ]
  },
  {
   "cell_type": "markdown",
   "id": "4354a2ca",
   "metadata": {},
   "source": [
    "**dot()** 함수, 곱의 총합 모두 같은 결과가 나왔습니다. 내적은 예를 들어 두 개 벡터의 상관관계를 구할 때 등에 사용합니다. 상관관계에 대해서는 이후에서 설명합니다."
   ]
  },
  {
   "cell_type": "markdown",
   "id": "edf7ea14",
   "metadata": {},
   "source": [
    "### 놈(norm)\n",
    "\n",
    "놈은 벡터의 크기를 나타내는 양입니다. 인공지능에서 자주 쓰이는 놈으로는 $L^2$ 놈과 $L^1$ 놈이 있습니다."
   ]
  },
  {
   "cell_type": "markdown",
   "id": "5a1d51ad",
   "metadata": {},
   "source": [
    "### $L^2$ 놈\n",
    "\n",
    "$L^2$ 놈은 다음과 같이 ||$\\vec{x}$||$_2$로 나타냅니다. 벡터의 각 요소를 제곱하여 제곱근을 구해 계산합니다.\n",
    "\n",
    "$$||\\vec{x}||_2 = \\sqrt{x^2_1 ＋ x^2_2 ＋ㆍㆍㆍ＋ x^2_n}$$\n",
    "$$= \\sqrt{\\sum^n_{k=1}x^2_k}$$"
   ]
  },
  {
   "cell_type": "markdown",
   "id": "ad25ea1f",
   "metadata": {},
   "source": [
    "### $L^1$ 놈\n",
    "\n",
    "$L^1$ 놈은 다음과 같이 ||$\\vec{x}_1$||로 나타냅니다. 벡터의 각 요소의 절댓값을 더해서 계산합니다.\n",
    "\n",
    "$$||\\vec{x}_1 = |x_1|＋|x_2|＋ㆍㆍㆍ＋|x_n|$$\n",
    "$$= (\\sum^n_{k=1}x^p_k)^\\frac{1}{p}$$"
   ]
  },
  {
   "cell_type": "markdown",
   "id": "b6fa572d",
   "metadata": {},
   "source": [
    "놈에는 몇 가지 표시법이 있는데 인공지능에서는 이것들을 필요에 따라 구분해서 하용합니다."
   ]
  },
  {
   "cell_type": "markdown",
   "id": "7dc806cf",
   "metadata": {},
   "source": [
    "### 놈의 구현\n",
    "\n",
    "놈은 NumPy()의 **linalg.nrom()** 함수를 이용해서 구할 수 있습니다."
   ]
  },
  {
   "cell_type": "code",
   "execution_count": 1,
   "id": "887d3347",
   "metadata": {},
   "outputs": [
    {
     "name": "stdout",
     "output_type": "stream",
     "text": [
      "--- L2놈 ---\n",
      "2.0\n",
      "--- L1놈 ---\n",
      "4.0\n"
     ]
    }
   ],
   "source": [
    "#리스트4.7\n",
    "import numpy as np\n",
    "\n",
    "a = np.array([1, 1, -1, -1])\n",
    "\n",
    "print(\"--- L2놈 ---\")\n",
    "print(np.linalg.norm(a)) # L2놈(디폴트)\n",
    "print(\"--- L1놈 ---\")\n",
    "print(np.linalg.norm(a, 1)) # L1놈"
   ]
  },
  {
   "cell_type": "markdown",
   "id": "b614160e",
   "metadata": {},
   "source": [
    "이상과 같이, 놈의 종류에 따라 벡터의 크기는 다른 값이 됩니다.  \n",
    "놈은 인공지능에서 **정칙화**에 쓰입니다. 정칙화란 필요 이상으로 네트워크 학습이 진행되는 것을 파라미터를 조절해서 예방하는 것입니다."
   ]
  },
  {
   "cell_type": "markdown",
   "id": "8e139bea",
   "metadata": {},
   "source": [
    "## 4.3 행렬의 곱\n",
    "\n",
    "행렬끼리 곱하는 방법을 배웁니다. 벡터끼리의 내적을 행렬로 확장하면 행렬의 곱이 됩니다. 행렬의 곱은 인공지능에서 효율적인 계산을 시행하기 위해서 중요한 조작입니다.  "
   ]
  },
  {
   "cell_type": "markdown",
   "id": "ea3caf22",
   "metadata": {},
   "source": [
    "### 행렬의 곱\n",
    "  \n",
    "일반적으로 행렬의 곱인 경우, 조금 복잡한 연산을 가리킵니다.  \n",
    "\n",
    "행렬곱에서는 앞 행렬에서의 행의 각 요소와 뒤 행렬에서의 열의 각 요소를 곱해서 총합을 구하고, 새로운 행렬의 요소로합니다.  \n",
    "\n",
    "행렬곱의 예를 살펴봅시다. 먼저 행렬 $A$와 $B$를 다음과 같이 설정합니다.  \n",
    "\n",
    "$$ A = \\left( \\begin{array}{cc}\n",
    "a_{11} & a_{12} & a_{13} \\\\\n",
    "a_{21} & a_{22} & a_{23} \\\\\n",
    "\\end{array} \\right) $$\n",
    "  \n",
    "$$ B = \\left( \\begin{array}{cc}\n",
    "b_{11} & b_{12} \\\\\n",
    "b_{21} & b_{22} \\\\\n",
    "b_{31} & b_{32} \\\\\n",
    "\\end{array} \\right) $$\n",
    "  \n",
    "$A$는 2×3의 행렬, $B$는 3×2의 행렬입니다. 그리고 $A$와 $B$의 곱을 다음과 같이 나타냅니다.\n",
    "  \n",
    "$$ AB = \\left( \\begin{array}{cc}\n",
    "a_{11} & a_{12} & a_{13} \\\\\n",
    "a_{21} & a_{22} & a_{23} \\\\\n",
    "\\end{array} \\right) \\\n",
    "\\left( \\begin{array}{cc}\n",
    "b_{11} & b_{12} \\\\\n",
    "b_{21} & b_{22} \\\\\n",
    "b_{31} & b_{32} \\\\\n",
    "\\end{array} \\right) $$\n",
    "\n",
    "$$ = \\left( \\begin{array}{cc}\n",
    "a_{11}b_{11} \\ ＋ \\ a_{12}b_{21} \\ ＋ \\ a_{13}b_{31} \\ \\ a_{11}b_{12} \\ ＋ \\ a_{12}b_{22} \\ ＋ \\ a_{13}b_{32} \\\\\n",
    "a_{21}b_{11} \\ ＋ \\ a_{22}b_{21} \\ ＋ \\ a_{23}b_{31} \\ \\ a_{21}b_{12} \\ ＋ \\ a_{22}b_{22} \\ ＋ \\ a_{23}b_{32} \\\\\n",
    "\\end{array} \\ \\ \\ \\ \\ \\ \\right) $$\n",
    "  \n",
    "$$ = \\left( \\begin{array}{cc}\n",
    "\\sum_{k=1}^3 a_{1k}b_{k1} \\ \\sum_{k=1}^3 a_{1k}b_{k2} \\\\\n",
    "\\sum_{k=1}^3 a_{2k}b_{k1} \\ \\sum_{k=1}^3 a_{2k}b_{k2} \\\\\n",
    "\\end{array} \\right) $$\n",
    "  \n",
    "  \n",
    "$A$의 각 행과 $B$의 각 행의 각 요소를 곱해서 총합을 취하고, 새로운 행렬의 각 요소로 합니다.  \n",
    "위의 행렬곱에는 총합의 기호 $\\Sigma$가 등장하는데 행렬곱은 곱의 총합을 계산할 때 대활약 합니다. 인공지능에서는 곱의 총합을 자주 계산하므로 행렬곱은 빼놓을 수 없습니다."
   ]
  },
  {
   "cell_type": "markdown",
   "id": "96256ce8",
   "metadata": {},
   "source": [
    "### 행렬곱의 일반화\n",
    "\n",
    "행렬곱을 더욱 일반적인 형태로 기술합니다. 다음은 $l×m$의 행렬 $A$와 $m×n$의 행렬 $B$의 행렬곱입니다.\n",
    "\n",
    "$$ AB = \\left( \\begin{array}{cc}\n",
    "a_{11} & a_{12} & \\ldots & a_{1m} \\\\\n",
    "a_{21} & a_{22} & \\ldots & a_{2m} \\\\\n",
    "\\vdots & \\vdots & \\ddots & \\vdots \\\\\n",
    "a_{l1} & a_{l2} & \\ldots & a_{lm} \\\\\n",
    "\\end{array} \\right) \\\n",
    "\\left( \\begin{array}{cc}\n",
    "b_{11} & b_{12} & \\ldots & b_{1n} \\\\\n",
    "b_{21} & b_{22} & \\ldots & b_{2n} \\\\\n",
    "\\vdots & \\vdots & \\ddots & \\vdots \\\\\n",
    "b_{m1} & b_{m2} & \\ldots & b_{mn} \\\\\n",
    "\\end{array} \\right) $$\n",
    "\n",
    "$$ = \\left( \\begin{array}{cc}\n",
    "\\sum_{k=1}^m a_{1k}b_{k1} & \\sum_{k=1}^m a_{1k}b_{k2} & \\ldots & \\sum_{k=1}^m a_{1k}b_{kn} \\\\\n",
    "\\sum_{k=1}^m a_{2k}b_{k1} & \\sum_{k=1}^m a_{2k}b_{k2} & \\ldots & \\sum_{k=1}^m a_{2k}b_{kn} \\\\\n",
    "\\vdots & \\vdots & \\ddots & \\vdots \\\\\n",
    "\\sum_{k=1}^m a_{lk}b_{k1} & \\sum_{k=1}^m a_{lk}b_{k2} & \\ldots & \\sum_{k=1}^m a_{lk}b_{kn} \\\\\n",
    "\\end{array} \\right) $$"
   ]
  },
  {
   "cell_type": "markdown",
   "id": "5de29996",
   "metadata": {},
   "source": [
    "### 행렬곱의 구현\n",
    "\n",
    "행렬곱을 전체 행과 열의 조합으로 계산하는 건 힘들지만 NumPy의 dot() 함수를 이용하면 간단하게 행렬곱을 계산할 수 있습니다."
   ]
  },
  {
   "cell_type": "code",
   "execution_count": 1,
   "id": "caa113ea",
   "metadata": {},
   "outputs": [
    {
     "name": "stdout",
     "output_type": "stream",
     "text": [
      "[[ 6  3]\n",
      " [12  6]]\n"
     ]
    }
   ],
   "source": [
    "#리스트4.10\n",
    "import numpy as np\n",
    "\n",
    "a = np.array([[0, 1, 2],\n",
    "             [1, 2, 3]])\n",
    "\n",
    "b = np.array([[2, 1],\n",
    "             [2, 1],\n",
    "             [2, 1]])\n",
    "\n",
    "print(np.dot(a, b))"
   ]
  },
  {
   "cell_type": "markdown",
   "id": "60d03156",
   "metadata": {},
   "source": [
    "### 요소별 곱(아다마르 곱)\n",
    "\n",
    "행렬의 요소별 곱은 아다마르 곱이라고도 불리며, 행렬의 각 요소를 곱합니다.  \n",
    "다음의 행렬 $A$, $B$ 를 봅시다.  \n",
    "\n",
    "$$ A = \\left( \\begin{array}{cc}\n",
    "a_{11} & a_{12} & \\cdots & a_{1n} \\\\\n",
    "a_{21} & a_{22} & \\cdots & a_{2n} \\\\\n",
    "\\vdots & \\vdots & \\ddots & \\vdots \\\\\n",
    "a_{m1} & a_{m2} & \\cdots & a_{mn} \\\\\n",
    "\\end{array} \\right) $$\n",
    "\n",
    "$$ B = \\left( \\begin{array}{cc}\n",
    "b_{11} & b_{12} & \\cdots & b_{1n} \\\\\n",
    "b_{21} & b_{22} & \\cdots & b_{2n} \\\\\n",
    "\\vdots & \\vdots & \\ddots & \\vdots \\\\\n",
    "b_{m1} & b_{m2} & \\cdots & b_{mn} \\\\\n",
    "\\end{array} \\right) $$\n",
    "\n",
    "이러한 행렬의 요소별 곱은 연산자 $\\bigcirc$를 이용해서 다음과 같이 나타낼 수 있습니다.\n",
    "\n",
    "$$ A \\bigcirc B = \\left( \\begin{array}{cc}\n",
    "a_{11}b_{11} & a_{12}b_{12} & \\cdots & a_{1n}b_{1n} \\\\\n",
    "a_{21}b_{21} & a_{22}b_{22} & \\cdots & a_{2n}b_{2n} \\\\\n",
    "\\vdots & \\vdots & \\vdots & \\vdots \\\\\n",
    "a_{m1}b_{m1} & a_{m2}b_{m2} & \\cdots & a_{mn}b_{mn} \\\\\n",
    "\\end{array} \\right) $$\n",
    "\n",
    "예를 들어 다음과 같은 경우\n",
    "$$ A = \\left( \\begin{array}{cc}\n",
    "0 & 1 & 2 \\\\\n",
    "3 & 4 & 5 \\\\\n",
    "6 & 7 & 8 \\\\\n",
    "\\end{array} \\right) $$\n",
    "\n",
    "$$ b = \\left( \\begin{array}{cc}\n",
    "0 & 1 & 2 \\\\\n",
    "2 & 0 & 1 \\\\\n",
    "1 & 2 & 0 \\\\\n",
    "\\end{array} \\right) $$\n",
    "\n",
    "$A$와 $B$의 요소별 곱은 다음과 같습니다.\n",
    "\n",
    "$$ A \\bigcirc B = \\left( \\begin{array}{cc}\n",
    "0 × 0 & 1 × 1 & 2 × 2 \\\\\n",
    "3 × 2 & 4 × 0 & 5 × 1 \\\\\n",
    "6 × 1 & 7 × 2 & 8 × 0 \\\\\n",
    "\\end{array} \\right) $$\n",
    "\n",
    "$$ = \\left( \\begin{array}{cc}\n",
    "0 & 1 & 4 \\\\\n",
    "6 & 0 & 5 \\\\\n",
    "6 & 14 & 0 \\\\\n",
    "\\end{array} \\right) $$\n",
    "\n",
    "이상과 같이 요소별 곱은 행렬곱과 비교해 간단합니다."
   ]
  },
  {
   "cell_type": "markdown",
   "id": "8ee53689",
   "metadata": {},
   "source": [
    "### 요소별 곱의 구현\n",
    "\n",
    "요소별 곱은 NumPy를 이용해서 구현할 수 있습니다.  \n",
    "요소별 연산에는 스칼라 곱의 연산자와 같은 **＊**를 사용합니다."
   ]
  },
  {
   "cell_type": "code",
   "execution_count": 1,
   "id": "f07e7bb1",
   "metadata": {},
   "outputs": [
    {
     "name": "stdout",
     "output_type": "stream",
     "text": [
      "[[ 0  1  4]\n",
      " [ 6  0  5]\n",
      " [ 6 14  0]]\n"
     ]
    }
   ],
   "source": [
    "#리스트4.11\n",
    "import numpy as np\n",
    "\n",
    "a = np.array([[0, 1, 2],\n",
    "             [3, 4, 5],\n",
    "             [6, 7, 8]])\n",
    "\n",
    "b = np.array([[0, 1, 2],\n",
    "             [2, 0, 1],\n",
    "             [1, 2, 0]])\n",
    "\n",
    "print(a*b)"
   ]
  },
  {
   "cell_type": "markdown",
   "id": "e7a935ac",
   "metadata": {},
   "source": [
    "요소 별 곱을 계산하기 위해서는 배열의 형태가 같아야 합니다.  \n",
    "또한, 요소별 합에는 **＋**, 요소별 차에는 **－**, 요소별 나눗셈에는 **／**를 사용합니다."
   ]
  },
  {
   "cell_type": "markdown",
   "id": "452be0ce",
   "metadata": {},
   "source": [
    "## 4.4 전치\n",
    "\n",
    "전치에 의해 행렬의 행과 열을 바꿉니다. 인공지능의 코드에서는 전치를 자주 사용합니다."
   ]
  },
  {
   "cell_type": "markdown",
   "id": "d1996063",
   "metadata": {},
   "source": [
    "### 전치\n",
    "\n",
    "행렬의 대한 중요한 조작으로 **전치**가 있습니다. 행렬을 전치함으로써 행과 열이 바뀝니다. 다음은 전치의 예인데, 예를 들어 행렬 $A$의 전치 행렬은 $A^T$로 나타냅니다.\n",
    "\n",
    "$$ A = \\left( \\begin{array}{cc}\n",
    "1 & 2 & 3 \\\\\n",
    "4 & 5 & 5 \\\\\n",
    "\\end{array} \\right) $$\n",
    "\n",
    "$$ A^T = \\left( \\begin{array}{cc}\n",
    "1 & 4 \\\\\n",
    "2 & 5 \\\\\n",
    "3 & 6 \\\\\n",
    "\\end{array} \\right) $$\n",
    "\n",
    "$$ \\\\ $$\n",
    "\n",
    "$$ B = \\left( \\begin{array}{cc}\n",
    "a & b \\\\\n",
    "c & d \\\\\n",
    "e & f \\\\\n",
    "\\end{array} \\right) $$\n",
    "\n",
    "$$ B^T = \\left( \\begin{array}{cc}\n",
    "a & c & e \\\\\n",
    "b & d & f \\\\\n",
    "\\end{array} \\right) $$"
   ]
  },
  {
   "cell_type": "markdown",
   "id": "fce183ea",
   "metadata": {},
   "source": [
    "### 전치의 구현\n",
    "\n",
    "NumPy에서는 행렬을 나타내는 배열명의 뒤에 **.T**를 붙이면 전치가 됩니다."
   ]
  },
  {
   "cell_type": "code",
   "execution_count": 2,
   "id": "aebb4d97",
   "metadata": {},
   "outputs": [
    {
     "name": "stdout",
     "output_type": "stream",
     "text": [
      "[[1 4]\n",
      " [2 5]\n",
      " [3 6]]\n"
     ]
    }
   ],
   "source": [
    "#라스트4.14\n",
    "import numpy as np\n",
    "\n",
    "a = np.array([[1, 2, 3],\n",
    "             [4, 5, 6]]) # 행렬\n",
    "\n",
    "print(a.T) # 전치"
   ]
  },
  {
   "cell_type": "markdown",
   "id": "d6623cd8",
   "metadata": {},
   "source": [
    "행렬의 행과 열이 바뀐 걸 확인할 수 있습니다."
   ]
  },
  {
   "cell_type": "markdown",
   "id": "6fc18b35",
   "metadata": {},
   "source": [
    "### 행렬곱과 전치\n",
    "\n",
    "행렬곱에 대해서는 기본적으로 앞 행렬의 열수와 뒤 행렬의 행수가 일치해야 합니다. 그렇지만 일치하지 않아도 전치에 의해 행렬곱을 할 수 있는 경우가 있습니다.  \n",
    "\n",
    "예를 들어, $l × n$의 행렬 $A$와 $m × n$의 행렬 $B$이고 $n ≠ m$인 경우는 행렬 $A$의 열수가 $n$이며, 행렬 $B$의 행수가 $m$으로 같지 않으므로 행렬곱은 할 수 없습니다. 그렇지만 행렬 $B$를 전치함으로써 행렬곱을 할 수 있습니다.  \n",
    "\n",
    "행렬 $A$의 열수와 전치된 행렬 $B^T$의 행수가 같게 되고 행렬곱을 계산할 수 있게 됐습니다."
   ]
  },
  {
   "cell_type": "markdown",
   "id": "8ea9e356",
   "metadata": {},
   "source": [
    "### 전치와 행렬곱의 구현\n",
    "\n",
    "NumPy의 배열을 전치하고, 행렬곱을 계산하는 예입니다. 배열명의 뒤에 **.T**를 붙이면 전치 행렬이 됩니다."
   ]
  },
  {
   "cell_type": "code",
   "execution_count": 1,
   "id": "5c4756fa",
   "metadata": {},
   "outputs": [
    {
     "name": "stdout",
     "output_type": "stream",
     "text": [
      "[[ 5  8]\n",
      " [ 8 14]]\n"
     ]
    }
   ],
   "source": [
    "#리스트4.15\n",
    "import numpy as np\n",
    "\n",
    "a = np.array([[0, 1, 2],\n",
    "             [1, 2, 3]]) # 2x3의 행렬\n",
    "b = np.array([[0, 1, 2],\n",
    "             [1, 2, 3]]) # 2x3의 행렬, 이대로는 행렬곱을 할 수 없다.\n",
    "\n",
    "# print(np.dot(a, b)) # 전치하지 않고 행렬곱을 취하면 에러\n",
    "print(np.dot(a, b.T)) # 전치에 의해 행렬곱이 가능해짐"
   ]
  },
  {
   "cell_type": "markdown",
   "id": "be09ae1e",
   "metadata": {},
   "source": [
    "위 코드에서는 행렬 **b**를 전치함으로써 행수가 3이 되며, 행렬 **a**의 열수와 일치하므로 행렬곱을 할 수 있게 됩니다."
   ]
  },
  {
   "cell_type": "markdown",
   "id": "45d79398",
   "metadata": {},
   "source": [
    "## 4.5 행렬식과 역행렬\n",
    "\n",
    "행렬식을 사용함으로써 행렬의 **역행렬**을 구할 수 있습니다. 역행렬을 사용하면 행렬의 방정식을 풀 수 있게 됩니다."
   ]
  },
  {
   "cell_type": "markdown",
   "id": "6179e532",
   "metadata": {},
   "source": [
    "### 단위행렬\n",
    "\n",
    "**단위행렬**은 예를 들어 다음과 같은 행렬을 말합니다.\n",
    "\n",
    "$$ \\left( \\begin{array}{cc}\n",
    "1 & 0 \\\\\n",
    "0 & 1 \\\\\n",
    "\\end{array} \\right) $$\n",
    "\n",
    "$$ \\left( \\begin{array}{cc}\n",
    "1 & 0 & 0 \\\\\n",
    "0 & 1 & 0 \\\\\n",
    "0 & 0 & 1 \\\\\n",
    "\\end{array} \\right) $$\n",
    "\n",
    "$$ \\left( \\begin{array}{cc}\n",
    "1 & 0 & \\cdots & 0 \\\\\n",
    "0 & 1 & \\cdots & 0 \\\\\n",
    "\\vdots & \\vdots & \\ddots & \\vdots \\\\\n",
    "0 & 0 & \\cdots & 1 \\\\\n",
    "\\end{array} \\right) $$\n",
    "\n",
    "이처럼 단위행렬에서는 행과 열의 수가 같고, 왼쪽 위에서부터 오른쪽 아래로 1이 나열, 그 외의 요소는 0이 됩니다.  \n",
    "\n",
    "단위 행렬은 다른 행렬의 앞이나 뒤에서 행렬곱을 하더라고 그 행렬이 값을 변화시키지 않는 특징이 있습니다. 다음에서 $2 × 2$의 단위행렬을 **E**로 나타내는데 $2 × 2$의 행렬 $A$의 앞뒤에 단위행렬 **E**를 곱해도 행렬 $A$는 변화하지 않습니다.\n",
    "\n",
    "$$ E = \\left( \\begin{array}{cc}\n",
    "1 & 0 \\\\\n",
    "0 & 1 \\\\\n",
    "\\end{array} \\right) $$\n",
    "\n",
    "$$ A = \\left( \\begin{array}{cc}\n",
    "a & b \\\\\n",
    "c & d \\\\\n",
    "\\end{array} \\right) $$\n",
    "\n",
    "$$ \\\\ \\\\ $$\n",
    "\n",
    "$$ EA = \\left( \\begin{array}{cc}\n",
    "1 & 0 \\\\\n",
    "0 & 1 \\\\\n",
    "\\end{array} \\right)\n",
    "\\left( \\begin{array}{cc}\n",
    "a & b \\\\\n",
    "c & d \\\\\n",
    "\\end{array} \\right)\n",
    "=\n",
    "\\left( \\begin{array}{cc}\n",
    "a & b \\\\\n",
    "c & d \\\\\n",
    "\\end{array} \\right) $$\n",
    "\n",
    "$$ AE = \\left( \\begin{array}{cc}\n",
    "a & b \\\\\n",
    "c & d \\\\\n",
    "\\end{array} \\right)\n",
    "\\left( \\begin{array}{cc}\n",
    "1 & 0 \\\\\n",
    "0 & 1 \\\\\n",
    "\\end{array} \\right)\n",
    "=\n",
    "\\left( \\begin{array}{cc}\n",
    "a & b \\\\\n",
    "c & d \\\\\n",
    "\\end{array} \\right) $$ \n",
    "  \n",
    "단위행렬이 3 × 3이든, 4 × 4든 앞뒤 어느 쪽부터 곱하든 행렬을 변화시키지 않는 성질은 같습니다. 위와 같이 단위행렬에는 같은 크기의 행렬에 곱해도 곱하는 대상의 행렬을 변화시키지 않는 성질이 있습니다."
   ]
  },
  {
   "cell_type": "markdown",
   "id": "cad6a33e",
   "metadata": {},
   "source": [
    "### 단위행렬의 구현\n",
    "\n",
    "NumPy에서는 **eye()** 함수로 단위행렬을 작성할 수 있습니다. **eye()** 함수에 전달하는 인수는 단위행렬의 크기를 나타냅니다."
   ]
  },
  {
   "cell_type": "code",
   "execution_count": 3,
   "id": "2ab0778c",
   "metadata": {},
   "outputs": [
    {
     "name": "stdout",
     "output_type": "stream",
     "text": [
      "[[1. 0.]\n",
      " [0. 1.]]\n",
      "\n",
      "[[1. 0. 0.]\n",
      " [0. 1. 0.]\n",
      " [0. 0. 1.]]\n",
      "\n",
      "[[1. 0. 0. 0.]\n",
      " [0. 1. 0. 0.]\n",
      " [0. 0. 1. 0.]\n",
      " [0. 0. 0. 1.]]\n"
     ]
    }
   ],
   "source": [
    "#리스트4.18\n",
    "import numpy as np\n",
    "\n",
    "print(np.eye(2)) # 2x2의 단위 행렬\n",
    "print()\n",
    "print(np.eye(3)) # 3x3의 단위 행렬\n",
    "print()\n",
    "print(np.eye(4)) # 4x4의 단위 행렬"
   ]
  },
  {
   "cell_type": "markdown",
   "id": "aa0b0a42",
   "metadata": {},
   "source": [
    "왼쪽 위에서부터 오른쪽 아래로 1이 나열, 나머지 요소는 전부 0으로 되어 있는 걸 확인할 수 있습니다."
   ]
  },
  {
   "cell_type": "markdown",
   "id": "6a5797da",
   "metadata": {},
   "source": [
    "### 역행렬\n",
    "\n",
    "다음 예에서 나타내듯이 어떤 수치와 그의 역수를 곱하면 1이 됩니다.\n",
    "\n",
    "$$ 3 × \\frac{1}{3} = 1 $$\n",
    "$$ 21 × \\frac{1}{21} = 1 $$\n",
    "\n",
    "스칼라와 마찬가지로 행렬에도 곱하면 단위행렬이 되는 행렬이 존재합니다.  \n",
    "이러한 행렬을 **역행렬**이라고 합니다.  \n",
    "행렬 $A$의 역행렬을 $A^{-1}$로 나타내면 $A$와 $A^{-1}$의 관계를 다음과 같이 나타낼 수 있습니다.\n",
    "\n",
    "$$ A^{-1}A = AA^{-1} = E $$\n",
    "\n",
    "이 경우 A는 행과 열의 수가 같은 **정방행렬**이어야 합니다.  \n",
    "예를 들어 다음 2개의 행렬 $C$와 $D$는 어떤 순서로 행렬곱을 계산해도 단위 행렬이 되기 때문에 서로 역행렬 관계가 됩니다.\n",
    "\n",
    "$$ C = \\left( \\begin{array}{cc}\n",
    "1 & 1 \\\\ 1 & 2 \\\\\n",
    "\\end{array} \\right)\n",
    "D = \\left( \\begin{array}{cc}\n",
    "2 & -1 \\\\ -1 & 1 \\\\\n",
    "\\end{array} \\right) $$\n",
    "\n",
    "$$ CD = DC = \\left( \\begin{array}{cc}\n",
    "1 & 0 \\\\ 0 & 1 \\\\\n",
    "\\end{array} \\right) $$"
   ]
  },
  {
   "cell_type": "markdown",
   "id": "39d40464",
   "metadata": {},
   "source": [
    "### 행렬식\n",
    "\n",
    "행렬에 따라서는 역행렬이 존재하지 않을 수 있습니다. 역행렬이 존재할지 여부는 **행렬식**에 의해 판정할 수 있습니다.  \n",
    "다음 행렬 $A$ 를 봅시다.\n",
    "\n",
    "$$ A = \\left( \\begin{array}{cc}\n",
    "a & b \\\\ c & d \\\\\n",
    "\\end{array} \\right) $$\n",
    "\n",
    "행렬식은 |A| 또는 $det(determinant) A$로 나타내는데 다음의 식으로 표현합니다.  \n",
    "\n",
    "$$ |A| = det A = ad - bc $$\n",
    "\n",
    "이 행렬식이 0인 경우, 역행렬은 존재하지 않습니다. 예를 들어 다음의 행렬은 1 × 4 - 2 × 3 = -2이므로 역행렬이 존재합니다.  \n",
    "\n",
    "$$ A = \\left( \\begin{array}{cc}\n",
    "1 & 2 \\\\ 3 & 4 \\\\\n",
    "\\end{array} \\right) $$\n",
    "\n",
    "한편, 다음의 행렬은 1 × 0 - 2 × 0 = 0이므로 역행렬이 존재하지 않습니다.  \n",
    "\n",
    "$$ A = \\left( \\begin{array}{cc}\n",
    "1 & 2 \\\\ 0 & 0 \\\\\n",
    "\\end{array} \\right) $$\n",
    "\n",
    "역행렬이 존재하는 경우, 다음의 공식에 의해 역행렬을 구할 수 있습니다.\n",
    "\n",
    "$$ A^{-1} = \\frac{1}{ad - bc} \\left( \\begin{array}{cc}\n",
    "d & -b \\\\ -c & a \\\\\n",
    "\\end{array} \\right) $$"
   ]
  },
  {
   "cell_type": "markdown",
   "id": "36de4c06",
   "metadata": {},
   "source": [
    "### 행렬식의 구현\n",
    "\n",
    "NumPy의 **linalg.det()** 함수에 의해 행렬식을 구할 수 있습니다."
   ]
  },
  {
   "cell_type": "code",
   "execution_count": 1,
   "id": "532aa787",
   "metadata": {},
   "outputs": [
    {
     "name": "stdout",
     "output_type": "stream",
     "text": [
      "-2.0000000000000004\n",
      "0.0\n"
     ]
    }
   ],
   "source": [
    "#리스트4.19\n",
    "import numpy as np\n",
    "\n",
    "a = np.array([[1, 2],\n",
    "             [3, 4]])\n",
    "print(np.linalg.det(a)) # 행렬식이 0이 되지 않는 경우\n",
    "\n",
    "b = np.array([[1, 2],\n",
    "             [0, 0]])\n",
    "print(np.linalg.det(b)) # 행렬식이 0이 되는 경우"
   ]
  },
  {
   "cell_type": "markdown",
   "id": "142d75fd",
   "metadata": {},
   "source": [
    "### 역행렬의 구현\n",
    "\n",
    "역행렬이 존재하는 경우, NumPy의 **linalg.inv()** 함수로 역행렬을 구할 수 있습니다."
   ]
  },
  {
   "cell_type": "code",
   "execution_count": 2,
   "id": "8caf18cb",
   "metadata": {},
   "outputs": [
    {
     "name": "stdout",
     "output_type": "stream",
     "text": [
      "[[-2.   1. ]\n",
      " [ 1.5 -0.5]]\n"
     ]
    }
   ],
   "source": [
    "#리스트4.20\n",
    "import numpy as np\n",
    "\n",
    "a = np.array([[1, 2],\n",
    "             [3, 4]])\n",
    "print(np.linalg.inv(a)) # 역행렬\n",
    "\n",
    "b = np.array([[1, 2],\n",
    "             [0, 0]])\n",
    "# print(np.linalg.inv(b)) # 역행렬이 존재하지 않으므로 에러가 난다"
   ]
  },
  {
   "cell_type": "markdown",
   "id": "7d49c3e1",
   "metadata": {},
   "source": [
    "행수, 열수가 많은 정방행렬은 역행렬을 손으로 계산할 때 가우스 소거법, 여인수법 등을 이용하는데 계산이 조금 복잡해집니다. 그렇지만 이러한 경우에도 NumPy의 **linalg.inv()** 함수를 사용하면 간단하게 역행렬을 구할 수 있습니다.  \n",
    "\n",
    "역행렬은 인공지능에서 변수끼리 상관관계를 알하보는 회귀 분석에서 사용됩니다."
   ]
  },
  {
   "cell_type": "markdown",
   "id": "87032669",
   "metadata": {},
   "source": [
    "## 4.6 선형변환\n",
    "\n",
    "선형변환에 의해 벡터를 변환합니다. 인공지능에서는 뉴럴 네트워크로 정보를 전파시키는데 선형변환을 사용합니다."
   ]
  },
  {
   "cell_type": "markdown",
   "id": "3853a1ca",
   "metadata": {},
   "source": [
    "### 벡터 그리기\n",
    "\n",
    "다음의 세로 벡터는 화살표로 그립니다.\n",
    "\n",
    "$$ \\vec{a} = \\left( \\begin{array}{cc}\n",
    "2 \\\\ 3 \\\\\n",
    "\\end{array} \\right) $$\n",
    "\n",
    "화살표를 그리려면 marplotlib.pyplot의 **quiver()** 함수를 사용합니다. **quiver()** 함수는 아래와 같이 설정합니다.  \n",
    "\n",
    "**quiver(시작점의 x 좌표, 끝점의 y 좌표, 화살표의 x 성분, 화살표의 y 성분,  \n",
    "angled=화살표의 각도의 결정 방법, scale_units=스케일의 단위,  \n",
    "scale\\스케일, color=화살표의 색)**\n",
    "\n",
    "화살표의 $x$ 성분과 $y$ 성분으로 벡터를 표현합니다. **angles, scale_units, scale**은 이번에는 신경쓰지 않아도 됩니다."
   ]
  },
  {
   "cell_type": "code",
   "execution_count": 7,
   "id": "595189ce",
   "metadata": {},
   "outputs": [
    {
     "data": {
      "image/png": "[encoded data removed]",
      "text/plain": [
       "<Figure size 640x480 with 1 Axes>"
      ]
     },
     "metadata": {},
     "output_type": "display_data"
    }
   ],
   "source": [
    "#리스트4.23\n",
    "%matplotlib inline\n",
    "\n",
    "import numpy as np\n",
    "import matplotlib.pyplot as plt\n",
    "\n",
    "# 화살표를 그리는 함수\n",
    "def arrow(start, size, color):\n",
    "    plt.quiver(start[0], start[1], size[0], size[1], angles=\"xy\", scale_units=\"xy\", scale=1, color=color)\n",
    "\n",
    "#화살표의 시작점\n",
    "s = np.array([0, 0]) # 원점\n",
    "\n",
    "# 벡터\n",
    "a = np.array([2, 3]) # 세로 벡터를 나타낸다\n",
    "\n",
    "arrow(s, a, color=\"black\")\n",
    "\n",
    "# 그래프 표시\n",
    "plt.xlim([-3, 3]) # x의 표시 범위\n",
    "plt.ylim([-3, 3]) # y의 표시 범위\n",
    "plt.xlabel(\"x\", size=14)\n",
    "plt.ylabel(\"y\", size=14)\n",
    "plt.grid()\n",
    "plt.gca().set_aspect(\"equal\") # 가로세로비를 같게\n",
    "plt.show()"
   ]
  },
  {
   "cell_type": "markdown",
   "id": "eeaa7a19",
   "metadata": {},
   "source": [
    "원점을 시작점으로 한 화살표로 벡터를 그릴 수 있었습니다."
   ]
  },
  {
   "cell_type": "markdown",
   "id": "d9ad730e",
   "metadata": {},
   "source": [
    "### 선형변환\n",
    "\n",
    "다음의 행렬 $A$를 살펴봅시다.\n",
    "\n",
    "$$ A = \\left( \\begin{array}{cc}\n",
    "2 & -1 \\\\ 2 & -2 \\\\\n",
    "\\end{array} \\right) $$\n",
    "\n",
    "다음과 같이해서 이 행렬 $A$를 세로 벡터 $\\vec{a}$에 곱함으로써 벡터를 변환할 수 있습니다.\n",
    "\n",
    "$$ \\vec{b} = A\\vec{a} = \\left( \\begin{array}{cc}\n",
    "2 & -1 \\\\ 2 & -2 \\\\\n",
    "\\end{array} \\right)\n",
    "\\left( \\begin{array}{cc}\n",
    "2 \\\\ 3 \\\\\n",
    "\\end{array} \\right) = \\left( \\begin{array}{cc}\n",
    "1 \\\\ -2 \\\\\n",
    "\\end{array} \\right) $$\n",
    "\n",
    "위와 같이 행렬 $A$에 의해 벡터 $\\vec{a}$는 벡터 $\\vec{b}$로 변환됐습니다.  \n",
    "이처럼 벡터에서 벡터로의 변환을 **선형변환**이라고 합니다.  \n",
    "변환 전의 벡터 $\\vec{a}$, 변환 후의 벡터 $\\vec{b}$를 화살표로 그리면 다음과 같습니다."
   ]
  },
  {
   "cell_type": "code",
   "execution_count": 8,
   "id": "5a57ed35",
   "metadata": {},
   "outputs": [
    {
     "name": "stdout",
     "output_type": "stream",
     "text": [
      "변환 전의 벡터(a): [2 3]\n",
      "변환 후의 벡터(b): [ 1 -2]\n"
     ]
    },
    {
     "data": {
      "image/png": "[encoded data removed]",
      "text/plain": [
       "<Figure size 640x480 with 1 Axes>"
      ]
     },
     "metadata": {},
     "output_type": "display_data"
    }
   ],
   "source": [
    "#리스트4.24\n",
    "import numpy as np\n",
    "import matplotlib.pyplot as plt\n",
    "\n",
    "a = np.array([2, 3]) # 변환 전의 벡터\n",
    "\n",
    "A = np.array([[2, -1],\n",
    "              [2, -2]])\n",
    "\n",
    "b = np.dot(A, a) # 선형변환\n",
    "\n",
    "print(\"변환 전의 벡터(a):\", a)\n",
    "print(\"변환 후의 벡터(b):\", b)\n",
    "\n",
    "def arrow(start, size, color):\n",
    "    plt.quiver(start[0], start[1], size[0], size[1], angles=\"xy\", scale_units=\"xy\", scale=1, color=color)\n",
    "\n",
    "s = np.array([0, 0]) # 원점\n",
    "\n",
    "arrow(s, a, color=\"black\")\n",
    "arrow(s, b, color=\"blue\")\n",
    "\n",
    "# 그래프 표시\n",
    "plt.xlim([-3, 3]) # x의 표시 범위\n",
    "plt.ylim([-3, 3]) # y의 표시 범위\n",
    "plt.xlabel(\"x\", size=14)\n",
    "plt.ylabel(\"y\", size=14)\n",
    "plt.grid()\n",
    "plt.gca().set_aspect(\"equal\") # 가로세로비를 같게\n",
    "plt.show()"
   ]
  },
  {
   "cell_type": "markdown",
   "id": "d155e64f",
   "metadata": {},
   "source": [
    "행렬 $A$에 의해 검정색 화살표로 표시되는 벡터가 $\\vec{a}$가 파란색 화살로 표시되는 벡터 $\\vec{b}$로 변환됐습니다."
   ]
  },
  {
   "cell_type": "markdown",
   "id": "b4b39cc2",
   "metadata": {},
   "source": [
    "## 4.7 고윳값과 고유 벡터\n",
    "\n",
    "고윳값, 고유벡터는 행렬을 다룰 때 자주 등장하는 중요한 개념입니다. 인공지능에서는 데이터를 요약하는 주성분 분석이하는 기법에 이용됩니다."
   ]
  },
  {
   "cell_type": "markdown",
   "id": "cb70d142",
   "metadata": {},
   "source": [
    "### 고윳값, 고유벡터\n",
    "\n",
    "정방행렬(행수와 열수가 같은 행렬) A를 생각합시다.  \n",
    "이 행렬 $A$에 대해서, 다음의 관계를 만족하는 스칼라 $\\lambda$를 행렬 $A$의 **고윳값**, 벡터 $\\vec{x}$를 행렬 $A$의 **고유벡터**라고 합니다.\n",
    "\n",
    "$$ A\\vec{x} = \\lambda\\vec{x} $$\n",
    "\n",
    "이 식으로 알 수 있듯이 고유벡터는 선형변환에 의해 각 요소가 고윳값 배가 되는 벡터입니다.  \n",
    "\n",
    "예를 들어 다음과 같은 단위 행렬 $E$를 봅시다.\n",
    "\n",
    "$$ E = \\left( \\begin{array}{cc}\n",
    "1 & 0 \\\\ 0 & 1 \\\\\n",
    "\\end{array} \\right) $$\n",
    "\n",
    "단위 행렬을 곱해도 벡터는 변화하지 않으므로 다음과 같이 표현할 수 있습니다.\n",
    "\n",
    "$$ A\\vec{x} = \\lambda E\\vec{x} $$\n",
    "\n",
    "이 식의 우변을 좌변으로 이항하면 다음 식을 얻을 수 있습니다.\n",
    "\n",
    "$$ (A － \\lambda E)\\vec{x} = \\vec{0} $$\n",
    "\n",
    "우변이 $\\vec{0}$이 되는데 이것은 요소가 전부 0인 벡터를 나타냅니다.  \n",
    "여기서 행렬$(A － \\lambda E)$가 역행렬을 가진다고 하면 위 식의 양 변에 왼쪽부터 역행렬 $(A － \\lambda E)^{-1}$을 곱해서\n",
    "\n",
    "$$ \\vec{x} = (A － \\lambda E)^{-1}\\vec{0} $$\n",
    "$$ = \\vec{0} $$\n",
    "\n",
    "가 되고, $\\vec{x}$는 $\\vec{0}$과 같게 됩니다.  \n",
    "이 해는 특병히 흥미롭지 않으므로, 행렬$(A － \\lambda E)$가 역행렬을 가지지 않는 경우를 생각합시다.  \n",
    "이때, 다음 관계가 만족합니다.\n",
    "\n",
    "$$ det(A － \\lambda E) = 0 $$\n",
    "\n",
    "이것을 행렬 $A$의 **고유방정식**이라고 합니다."
   ]
  },
  {
   "cell_type": "markdown",
   "id": "3a3b0b5f",
   "metadata": {},
   "source": [
    "### 고윳값, 고유벡터를 구한다\n",
    "\n",
    "다음 행렬 $A$의 고윳값을 계산합니다.\n",
    "\n",
    "$$ A = \\left( \\begin{array}{cc}\n",
    "3 & 1 \\\\ 2 & 4 \\\\\n",
    "\\end{array} \\right) $$\n",
    "\n",
    "$ det(A － \\lambda E) = 0 $ 을 사용해 행렬 $A$의 고윳값을 다음과 같이 구할 수 있습니다.\n",
    "\n",
    "$$ det(A － \\lambda E) = 0 $$\n",
    "$$ \\\\ $$\n",
    "$$ det \\left( \\left( \\begin{array}{cc}\n",
    "3 & 1 \\\\ 2 & 4\\\\\n",
    "\\end{array} \\right) － \\lambda \\left( \\begin{array}{cc}\n",
    "1 & 0 \\\\ 0 & 1 \\\\\n",
    "\\end{array} \\right) \\right) = 0 $$\n",
    "$$ \\\\ $$\n",
    "$$ det \\left( \\begin{array}{cc}\n",
    "3 － \\lambda & 1 \\\\ 2 & 4 － \\lambda \\\\\n",
    "\\end{array} \\right) = 0 $$\n",
    "$$ \\\\ $$\n",
    "$$ (3 － \\lambda)(4 － \\lambda) － 1 × 2 = 0 $$\n",
    "$$ \\\\ $$\n",
    "$$ \\lambda^2 － 7\\lambda ＋ 10 = 0 $$\n",
    "$$ \\\\ $$\n",
    "$$ (\\lambda － 2)(\\lambda － 5) = 0 $$\n",
    "\n",
    "이 때, 고윳값 $\\lambda$ 의 값은 2 또는 5가 됩니다.  \n",
    "다음에 고유벡터를 구합니다.  \n",
    "\n",
    "다음에서는 $ \\lambda = 2 $인 경우와 $ \\lambda = 5 $인 경우, 두 가지를 생각합니다.  \n",
    "$\\lambda = 2$인 경우, $\\vec{x}$를 다음과 같이 두면\n",
    "\n",
    "$$ \\vec{x} = \\left( \\begin{array}{cc}\n",
    "p \\\\ q \\\\\n",
    "\\end{array} \\right) $$\n",
    "\n",
    "고유벡터는 $ (A － \\lambda E)\\vec{x} = \\vec{0} $ 에 의해 다음과 같이 구할 수 있습니다.\n",
    "\n",
    "$$ (A － 2E) \\ \\left( \\begin{array}{cc} p \\\\ q \\end{array} \\right) = \\vec{0} $$\n",
    "$$ \\\\ $$\n",
    "$$ \\left( \\begin{array}{cc}\n",
    "3 \\ － \\ 2 & 1 \\\\ 2 & 4 \\ － \\ 2 \\\\\n",
    "\\end{array} \\right) \\left( \\begin{array}{cc}\n",
    "p \\\\ q \\\\ \\end{array} \\right) = \\vec{0} $$\n",
    "$$ \\\\ $$\n",
    "$$ \\left( \\begin{array}{cc}\n",
    "1 & 1 \\\\ 2 & 2 \\\\\n",
    "\\end{array} \\right) \\left( \\begin{array}{cc}\n",
    "p \\\\ q \\\\ \\end{array} \\right) = \\vec{0} $$\n",
    "$$ \\\\ $$\n",
    "$$ \\left( \\begin{array}{c}\n",
    "p \\ ＋ \\ q \\\\ 2p \\ ＋ \\ 2q \\\\\n",
    "\\end{array} \\right) = \\vec{0} $$\n",
    "\n",
    "이 때, $p ＋ q = 0$입니다.  \n",
    "이 조건을 만족하는 다음과 같은 벡터 $\\lambda = 2$인 경우, $A$의 고유벡터가 됩니다. $t$는 임의의 실수입니다.\n",
    "\n",
    "$$ \\vec{x} = \\left( \\begin{array}{cc}\n",
    "t \\\\ －t \\\\ \\end{array} \\right) $$\n",
    "\n",
    "$\\lambda = 5$인 경우, 마찬가지로 해서 $2p － q = 0$가 되는 걸 확인할 수 있습니다.  \n",
    "이 조건을 만족하는 다음과 같은 벡터가 $\\lambda = 5$인 경우, $A$의 고유벡터가 됩니다. $t$는 임의의 실수입니다.\n",
    "\n",
    "$$ \\vec{x} = \\left( \\begin{array}{cc}\n",
    "t \\\\ 2t \\\\ \\end{array} \\right) $$"
   ]
  },
  {
   "cell_type": "markdown",
   "id": "697104e1",
   "metadata": {},
   "source": [
    "### 고윳값과 고유벡터의 계산\n",
    "\n",
    "NumPy의 **linalg.eig()** 함수에 의해 고윳값과 고유벡터를 동시에 구할 수 있습니다."
   ]
  },
  {
   "cell_type": "code",
   "execution_count": 3,
   "id": "59aa07de",
   "metadata": {},
   "outputs": [
    {
     "name": "stdout",
     "output_type": "stream",
     "text": [
      "[2. 5.]\n",
      "\n",
      "[[-0.70710678 -0.4472136 ]\n",
      " [ 0.70710678 -0.89442719]]\n"
     ]
    }
   ],
   "source": [
    "#리스트4.28\n",
    "import numpy as np\n",
    "\n",
    "a = np.array([[3, 1],\n",
    "             [2, 4]])\n",
    "\n",
    "ev = np.linalg.eig(a) # 고윳값과 고유벡터를 동시에 구한다\n",
    "\n",
    "print(ev[0]) # 첫 요소는 고윳값\n",
    "\n",
    "print()\n",
    "\n",
    "print(ev[1]) # 다음 요소는 고유벡터"
   ]
  },
  {
   "cell_type": "markdown",
   "id": "45fa197f",
   "metadata": {},
   "source": [
    "**linalg.eig()** 함수의 결과는 두 개의 배열로 처음 배열이 고윳값을 포함, 다음의 배열이 고유벡터를 포함합니다. 위에서는 2와 5, 두 개의 고윳값을 구할 수 있었습니다.  \n",
    "고유벡터는 행렬로서 얻을 수 있었습니다. 이 행렬의 각 열이 고유벡터를 나타냅니다. 이 경우 각 고유벡터는 $L^2$놈이 1이 됩니다. 이러한 $L^2$놈이 1인 벡터를 **단위 벡터**라고 합니다. numPy의 **linalg.eig()** 함수는 고유벡터를 단위 벡터의 형태로 반환합니다."
   ]
  }
 ],
 "metadata": {
  "kernelspec": {
   "display_name": "Python 3 (ipykernel)",
   "language": "python",
   "name": "python3"
  },
  "language_info": {
   "codemirror_mode": {
    "name": "ipython",
    "version": 3
   },
   "file_extension": ".py",
   "mimetype": "text/x-python",
   "name": "python",
   "nbconvert_exporter": "python",
   "pygments_lexer": "ipython3",
   "version": "3.9.13"
  }
 },
 "nbformat": 4,
 "nbformat_minor": 5
}
