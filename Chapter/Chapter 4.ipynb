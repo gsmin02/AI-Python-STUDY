{
 "cells": [
  {
   "cell_type": "code",
   "execution_count": 1,
   "id": "c2a38032",
   "metadata": {},
   "outputs": [
    {
     "name": "stdout",
     "output_type": "stream",
     "text": [
      "벡터는 NumPy의 1차원 배열을 이용해서 나타낼 수 있습니다.\n",
      "[1 2 3]\n",
      "[-2.4   0.25 -1.3   1.8   0.61]\n"
     ]
    }
   ],
   "source": [
    "#리스트4.2\n",
    "import numpy as np\n",
    "\n",
    "print(\"벡터는 NumPy의 1차원 배열을 이용해서 나타낼 수 있습니다.\")\n",
    "\n",
    "a = np.array([1, 2, 3]) # 1차원 배열로 벡터를 나타낸다\n",
    "print(a)\n",
    "\n",
    "b = np.array([-2.4, 0.25, -1.3, 1.8, 0.61])\n",
    "print(b)"
   ]
  },
  {
   "cell_type": "code",
   "execution_count": 2,
   "id": "f9685833",
   "metadata": {},
   "outputs": [
    {
     "name": "stdout",
     "output_type": "stream",
     "text": [
      "NumPy의 2차원 배열을 이용해서 행렬을 표현할 수 있습니다.\n",
      "[[1 2 3]\n",
      " [4 5 6]]\n",
      "[[ 0.21  0.14]\n",
      " [-1.3   0.81]\n",
      " [ 0.12 -2.1 ]]\n"
     ]
    }
   ],
   "source": [
    "#리스트4.3\n",
    "import numpy as np\n",
    "\n",
    "print(\"NumPy의 2차원 배열을 이용해서 행렬을 표현할 수 있습니다.\")\n",
    "\n",
    "a = np.array([[1, 2, 3],\n",
    "             [4, 5, 6]]) # 2x3의 행렬\n",
    "print(a)\n",
    "\n",
    "b = np.array([[0.21, 0.14],\n",
    "             [-1.3, 0.81],\n",
    "             [0.12, -2.1]]) # 3x2의 행렬\n",
    "print(b)"
   ]
  },
  {
   "cell_type": "code",
   "execution_count": 3,
   "id": "acce004a",
   "metadata": {},
   "outputs": [
    {
     "name": "stdout",
     "output_type": "stream",
     "text": [
      "NumPy의 다차원 배열을 이용하면 3차원 텐서를 구현할 수 있습니다.\n",
      "[[[0 1 2 3]\n",
      "  [2 3 4 5]\n",
      "  [4 5 6 7]]\n",
      "\n",
      " [[1 2 3 4]\n",
      "  [3 4 5 6]\n",
      "  [5 6 7 8]]]\n"
     ]
    }
   ],
   "source": [
    "#리스트4.4\n",
    "import numpy as np\n",
    "\n",
    "print(\"NumPy의 다차원 배열을 이용하면 3차원 텐서를 구현할 수 있습니다.\")\n",
    "\n",
    "a = np.array([[[0, 1, 2, 3],\n",
    "              [2, 3, 4, 5],\n",
    "              [4, 5, 6, 7]],\n",
    "              [[1, 2, 3, 4],\n",
    "               [3, 4, 5, 6],\n",
    "               [5, 6, 7, 8]]]) # (2, 3, 4)의 3차원 텐서\n",
    "print(a)"
   ]
  },
  {
   "cell_type": "code",
   "execution_count": 4,
   "id": "b8d516b8",
   "metadata": {},
   "outputs": [
    {
     "name": "stdout",
     "output_type": "stream",
     "text": [
      "벡터의 내적은 NumPy의 dot() 함수로 간단하게 구현할 수 있습니다. 또한, sum() 함수를 사용해서 각 요소의 곱의 총합으로도 구할 수 있습니다.\n",
      "--- dot() 함수 ---\n",
      "10\n",
      "--- 곱의 총합 ---\n",
      "10\n"
     ]
    }
   ],
   "source": [
    "#리스트4.6\n",
    "import numpy as np\n",
    "\n",
    "print(\"벡터의 내적은 NumPy의 dot() 함수로 간단하게 구현할 수 있습니다. 또한, sum() 함수를 사용해서 각 요소의 곱의 총합으로도 구할 수 있습니다.\")\n",
    "\n",
    "a = np.array([1, 2, 3])\n",
    "b = np.array([3, 2, 1])\n",
    "\n",
    "print(\"--- dot() 함수 ---\")\n",
    "print(np.dot(a, b)) # dot() 함수에 의한 내적\n",
    "print(\"--- 곱의 총합 ---\")\n",
    "print(np.sum(a * b)) # 곱의 총합에 의한 내적"
   ]
  },
  {
   "cell_type": "code",
   "execution_count": 5,
   "id": "887d3347",
   "metadata": {},
   "outputs": [
    {
     "name": "stdout",
     "output_type": "stream",
     "text": [
      "놈은 NumPy()의 linalg.norm() 함수를 이용해서 구할 수 있습니다.\n",
      "--- L2놈 ---\n",
      "2.0\n",
      "--- L1놈 ---\n",
      "4.0\n"
     ]
    }
   ],
   "source": [
    "#리스트4.7\n",
    "import numpy as np\n",
    "\n",
    "print(\"놈은 NumPy()의 linalg.norm() 함수를 이용해서 구할 수 있습니다.\")\n",
    "\n",
    "a = np.array([1, 1, -1, -1])\n",
    "\n",
    "print(\"--- L2놈 ---\")\n",
    "print(np.linalg.norm(a)) # L2놈(디폴트)\n",
    "print(\"--- L1놈 ---\")\n",
    "print(np.linalg.norm(a, 1)) # L1놈"
   ]
  },
  {
   "cell_type": "code",
   "execution_count": 6,
   "id": "caa113ea",
   "metadata": {},
   "outputs": [
    {
     "name": "stdout",
     "output_type": "stream",
     "text": [
      "행렬곱을 전체 행과 열의 조합으로 계산하는 건 힘들지만 NumPy의 dot() 함수를 이용하면 간단하게 행렬곱을 계산할 수 있습니다.\n",
      "[[ 6  3]\n",
      " [12  6]]\n"
     ]
    }
   ],
   "source": [
    "#리스트4.10\n",
    "import numpy as np\n",
    "\n",
    "print(\"행렬곱을 전체 행과 열의 조합으로 계산하는 건 힘들지만 NumPy의 dot() 함수를 이용하면 간단하게 행렬곱을 계산할 수 있습니다.\")\n",
    "\n",
    "a = np.array([[0, 1, 2],\n",
    "             [1, 2, 3]])\n",
    "\n",
    "b = np.array([[2, 1],\n",
    "             [2, 1],\n",
    "             [2, 1]])\n",
    "\n",
    "print(np.dot(a, b))"
   ]
  },
  {
   "cell_type": "code",
   "execution_count": 7,
   "id": "f07e7bb1",
   "metadata": {},
   "outputs": [
    {
     "name": "stdout",
     "output_type": "stream",
     "text": [
      "요소별 곱은 NumPy를 이용해서 구현할 수 있습니다. 요소별 연산에는 스칼라 곱의 연산자와 같은 *를 사용합니다.\n",
      "[[ 0  1  4]\n",
      " [ 6  0  5]\n",
      " [ 6 14  0]]\n"
     ]
    }
   ],
   "source": [
    "#리스트4.11\n",
    "import numpy as np\n",
    "\n",
    "print(\"요소별 곱은 NumPy를 이용해서 구현할 수 있습니다. 요소별 연산에는 스칼라 곱의 연산자와 같은 *를 사용합니다.\")\n",
    "\n",
    "a = np.array([[0, 1, 2],\n",
    "             [3, 4, 5],\n",
    "             [6, 7, 8]])\n",
    "\n",
    "b = np.array([[0, 1, 2],\n",
    "             [2, 0, 1],\n",
    "             [1, 2, 0]])\n",
    "\n",
    "print(a*b)"
   ]
  },
  {
   "cell_type": "code",
   "execution_count": 8,
   "id": "aebb4d97",
   "metadata": {},
   "outputs": [
    {
     "name": "stdout",
     "output_type": "stream",
     "text": [
      "NumPy에서는 행렬을 나타내는 배열명의 뒤에 .T를 붙이면 전치가 됩니다.\n",
      "[[1 4]\n",
      " [2 5]\n",
      " [3 6]]\n"
     ]
    }
   ],
   "source": [
    "#라스트4.14\n",
    "import numpy as np\n",
    "\n",
    "print(\"NumPy에서는 행렬을 나타내는 배열명의 뒤에 .T를 붙이면 전치가 됩니다.\")\n",
    "\n",
    "a = np.array([[1, 2, 3],\n",
    "             [4, 5, 6]]) # 행렬\n",
    "\n",
    "print(a.T) # 전치"
   ]
  },
  {
   "cell_type": "code",
   "execution_count": 9,
   "id": "5c4756fa",
   "metadata": {},
   "outputs": [
    {
     "name": "stdout",
     "output_type": "stream",
     "text": [
      "[[ 5  8]\n",
      " [ 8 14]]\n"
     ]
    }
   ],
   "source": [
    "#리스트4.15\n",
    "import numpy as np\n",
    "\n",
    "a = np.array([[0, 1, 2],\n",
    "             [1, 2, 3]]) # 2x3의 행렬\n",
    "b = np.array([[0, 1, 2],\n",
    "             [1, 2, 3]]) # 2x3의 행렬, 이대로는 행렬곱을 할 수 없다.\n",
    "\n",
    "# print(np.dot(a, b)) # 전치하지 않고 행렬곱을 취하면 에러\n",
    "print(np.dot(a, b.T)) # 전치에 의해 행렬곱이 가능해짐"
   ]
  }
 ],
 "metadata": {
  "kernelspec": {
   "display_name": "Python 3 (ipykernel)",
   "language": "python",
   "name": "python3"
  },
  "language_info": {
   "codemirror_mode": {
    "name": "ipython",
    "version": 3
   },
   "file_extension": ".py",
   "mimetype": "text/x-python",
   "name": "python",
   "nbconvert_exporter": "python",
   "pygments_lexer": "ipython3",
   "version": "3.9.13"
  }
 },
 "nbformat": 4,
 "nbformat_minor": 5
}
