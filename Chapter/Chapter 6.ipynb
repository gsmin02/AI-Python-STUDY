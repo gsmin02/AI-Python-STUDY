{
 "cells": [
  {
   "cell_type": "markdown",
   "id": "abd35398",
   "metadata": {},
   "source": [
    "# 6장 - 확률 · 통계\n",
    "\n",
    "이 장에서는 확률·통계를 학습합니다. 인공지능에서는 많은 데이터를 다루는데 확률·통계를 학습함으로써 데이터의 경향을 ㅊ파"
   ]
  }
 ],
 "metadata": {
  "kernelspec": {
   "display_name": "Python 3 (ipykernel)",
   "language": "python",
   "name": "python3"
  },
  "language_info": {
   "codemirror_mode": {
    "name": "ipython",
    "version": 3
   },
   "file_extension": ".py",
   "mimetype": "text/x-python",
   "name": "python",
   "nbconvert_exporter": "python",
   "pygments_lexer": "ipython3",
   "version": "3.9.13"
  }
 },
 "nbformat": 4,
 "nbformat_minor": 5
}
